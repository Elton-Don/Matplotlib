{
 "cells": [
  {
   "cell_type": "code",
   "execution_count": 1,
   "metadata": {},
   "outputs": [],
   "source": [
    " # Dependencies and Setup\n",
    "import matplotlib.pyplot as plt\n",
    "import pandas as pd\n",
    "import numpy as np\n",
    "import scipy.stats as st"
   ]
  },
  {
   "cell_type": "code",
   "execution_count": 2,
   "metadata": {},
   "outputs": [],
   "source": [
    "# Study data files\n",
    "mouse_metadata = \"Resources/Mouse_metadata.csv\"\n",
    "study_results = \"Resources/Study_results.csv\""
   ]
  },
  {
   "cell_type": "code",
   "execution_count": 3,
   "metadata": {},
   "outputs": [],
   "source": [
    "# Read the mouse data and the study results\n",
    "mouse_metadata = pd.read_csv(mouse_metadata)\n",
    "study_results = pd.read_csv(study_results)"
   ]
  },
  {
   "cell_type": "code",
   "execution_count": 4,
   "metadata": {},
   "outputs": [
    {
     "data": {
      "text/html": [
       "<div>\n",
       "<style scoped>\n",
       "    .dataframe tbody tr th:only-of-type {\n",
       "        vertical-align: middle;\n",
       "    }\n",
       "\n",
       "    .dataframe tbody tr th {\n",
       "        vertical-align: top;\n",
       "    }\n",
       "\n",
       "    .dataframe thead th {\n",
       "        text-align: right;\n",
       "    }\n",
       "</style>\n",
       "<table border=\"1\" class=\"dataframe\">\n",
       "  <thead>\n",
       "    <tr style=\"text-align: right;\">\n",
       "      <th></th>\n",
       "      <th>Mouse ID</th>\n",
       "      <th>Timepoint</th>\n",
       "      <th>Tumor Volume (mm3)</th>\n",
       "      <th>Metastatic Sites</th>\n",
       "    </tr>\n",
       "  </thead>\n",
       "  <tbody>\n",
       "    <tr>\n",
       "      <th>0</th>\n",
       "      <td>b128</td>\n",
       "      <td>0</td>\n",
       "      <td>45.0</td>\n",
       "      <td>0</td>\n",
       "    </tr>\n",
       "    <tr>\n",
       "      <th>1</th>\n",
       "      <td>f932</td>\n",
       "      <td>0</td>\n",
       "      <td>45.0</td>\n",
       "      <td>0</td>\n",
       "    </tr>\n",
       "    <tr>\n",
       "      <th>2</th>\n",
       "      <td>g107</td>\n",
       "      <td>0</td>\n",
       "      <td>45.0</td>\n",
       "      <td>0</td>\n",
       "    </tr>\n",
       "    <tr>\n",
       "      <th>3</th>\n",
       "      <td>a457</td>\n",
       "      <td>0</td>\n",
       "      <td>45.0</td>\n",
       "      <td>0</td>\n",
       "    </tr>\n",
       "    <tr>\n",
       "      <th>4</th>\n",
       "      <td>c819</td>\n",
       "      <td>0</td>\n",
       "      <td>45.0</td>\n",
       "      <td>0</td>\n",
       "    </tr>\n",
       "  </tbody>\n",
       "</table>\n",
       "</div>"
      ],
      "text/plain": [
       "  Mouse ID  Timepoint  Tumor Volume (mm3)  Metastatic Sites\n",
       "0     b128          0                45.0                 0\n",
       "1     f932          0                45.0                 0\n",
       "2     g107          0                45.0                 0\n",
       "3     a457          0                45.0                 0\n",
       "4     c819          0                45.0                 0"
      ]
     },
     "execution_count": 4,
     "metadata": {},
     "output_type": "execute_result"
    }
   ],
   "source": [
    "study_results.head()"
   ]
  },
  {
   "cell_type": "code",
   "execution_count": 5,
   "metadata": {},
   "outputs": [
    {
     "data": {
      "text/html": [
       "<div>\n",
       "<style scoped>\n",
       "    .dataframe tbody tr th:only-of-type {\n",
       "        vertical-align: middle;\n",
       "    }\n",
       "\n",
       "    .dataframe tbody tr th {\n",
       "        vertical-align: top;\n",
       "    }\n",
       "\n",
       "    .dataframe thead th {\n",
       "        text-align: right;\n",
       "    }\n",
       "</style>\n",
       "<table border=\"1\" class=\"dataframe\">\n",
       "  <thead>\n",
       "    <tr style=\"text-align: right;\">\n",
       "      <th></th>\n",
       "      <th>Mouse ID</th>\n",
       "      <th>Drug Regimen</th>\n",
       "      <th>Sex</th>\n",
       "      <th>Age_months</th>\n",
       "      <th>Weight (g)</th>\n",
       "    </tr>\n",
       "  </thead>\n",
       "  <tbody>\n",
       "    <tr>\n",
       "      <th>0</th>\n",
       "      <td>k403</td>\n",
       "      <td>Ramicane</td>\n",
       "      <td>Male</td>\n",
       "      <td>21</td>\n",
       "      <td>16</td>\n",
       "    </tr>\n",
       "    <tr>\n",
       "      <th>1</th>\n",
       "      <td>s185</td>\n",
       "      <td>Capomulin</td>\n",
       "      <td>Female</td>\n",
       "      <td>3</td>\n",
       "      <td>17</td>\n",
       "    </tr>\n",
       "    <tr>\n",
       "      <th>2</th>\n",
       "      <td>x401</td>\n",
       "      <td>Capomulin</td>\n",
       "      <td>Female</td>\n",
       "      <td>16</td>\n",
       "      <td>15</td>\n",
       "    </tr>\n",
       "    <tr>\n",
       "      <th>3</th>\n",
       "      <td>m601</td>\n",
       "      <td>Capomulin</td>\n",
       "      <td>Male</td>\n",
       "      <td>22</td>\n",
       "      <td>17</td>\n",
       "    </tr>\n",
       "    <tr>\n",
       "      <th>4</th>\n",
       "      <td>g791</td>\n",
       "      <td>Ramicane</td>\n",
       "      <td>Male</td>\n",
       "      <td>11</td>\n",
       "      <td>16</td>\n",
       "    </tr>\n",
       "  </tbody>\n",
       "</table>\n",
       "</div>"
      ],
      "text/plain": [
       "  Mouse ID Drug Regimen     Sex  Age_months  Weight (g)\n",
       "0     k403     Ramicane    Male          21          16\n",
       "1     s185    Capomulin  Female           3          17\n",
       "2     x401    Capomulin  Female          16          15\n",
       "3     m601    Capomulin    Male          22          17\n",
       "4     g791     Ramicane    Male          11          16"
      ]
     },
     "execution_count": 5,
     "metadata": {},
     "output_type": "execute_result"
    }
   ],
   "source": [
    "mouse_metadata.head()"
   ]
  },
  {
   "cell_type": "code",
   "execution_count": 6,
   "metadata": {},
   "outputs": [
    {
     "data": {
      "text/html": [
       "<div>\n",
       "<style scoped>\n",
       "    .dataframe tbody tr th:only-of-type {\n",
       "        vertical-align: middle;\n",
       "    }\n",
       "\n",
       "    .dataframe tbody tr th {\n",
       "        vertical-align: top;\n",
       "    }\n",
       "\n",
       "    .dataframe thead th {\n",
       "        text-align: right;\n",
       "    }\n",
       "</style>\n",
       "<table border=\"1\" class=\"dataframe\">\n",
       "  <thead>\n",
       "    <tr style=\"text-align: right;\">\n",
       "      <th></th>\n",
       "      <th>Mouse ID</th>\n",
       "      <th>Drug Regimen</th>\n",
       "      <th>Sex</th>\n",
       "      <th>Age_months</th>\n",
       "      <th>Weight (g)</th>\n",
       "      <th>Timepoint</th>\n",
       "      <th>Tumor Volume (mm3)</th>\n",
       "      <th>Metastatic Sites</th>\n",
       "    </tr>\n",
       "  </thead>\n",
       "  <tbody>\n",
       "    <tr>\n",
       "      <th>0</th>\n",
       "      <td>k403</td>\n",
       "      <td>Ramicane</td>\n",
       "      <td>Male</td>\n",
       "      <td>21</td>\n",
       "      <td>16</td>\n",
       "      <td>0</td>\n",
       "      <td>45.000000</td>\n",
       "      <td>0</td>\n",
       "    </tr>\n",
       "    <tr>\n",
       "      <th>1</th>\n",
       "      <td>k403</td>\n",
       "      <td>Ramicane</td>\n",
       "      <td>Male</td>\n",
       "      <td>21</td>\n",
       "      <td>16</td>\n",
       "      <td>5</td>\n",
       "      <td>38.825898</td>\n",
       "      <td>0</td>\n",
       "    </tr>\n",
       "    <tr>\n",
       "      <th>2</th>\n",
       "      <td>k403</td>\n",
       "      <td>Ramicane</td>\n",
       "      <td>Male</td>\n",
       "      <td>21</td>\n",
       "      <td>16</td>\n",
       "      <td>10</td>\n",
       "      <td>35.014271</td>\n",
       "      <td>1</td>\n",
       "    </tr>\n",
       "    <tr>\n",
       "      <th>3</th>\n",
       "      <td>k403</td>\n",
       "      <td>Ramicane</td>\n",
       "      <td>Male</td>\n",
       "      <td>21</td>\n",
       "      <td>16</td>\n",
       "      <td>15</td>\n",
       "      <td>34.223992</td>\n",
       "      <td>1</td>\n",
       "    </tr>\n",
       "    <tr>\n",
       "      <th>4</th>\n",
       "      <td>k403</td>\n",
       "      <td>Ramicane</td>\n",
       "      <td>Male</td>\n",
       "      <td>21</td>\n",
       "      <td>16</td>\n",
       "      <td>20</td>\n",
       "      <td>32.997729</td>\n",
       "      <td>1</td>\n",
       "    </tr>\n",
       "  </tbody>\n",
       "</table>\n",
       "</div>"
      ],
      "text/plain": [
       "  Mouse ID Drug Regimen   Sex  Age_months  Weight (g)  Timepoint  \\\n",
       "0     k403     Ramicane  Male          21          16          0   \n",
       "1     k403     Ramicane  Male          21          16          5   \n",
       "2     k403     Ramicane  Male          21          16         10   \n",
       "3     k403     Ramicane  Male          21          16         15   \n",
       "4     k403     Ramicane  Male          21          16         20   \n",
       "\n",
       "   Tumor Volume (mm3)  Metastatic Sites  \n",
       "0           45.000000                 0  \n",
       "1           38.825898                 0  \n",
       "2           35.014271                 1  \n",
       "3           34.223992                 1  \n",
       "4           32.997729                 1  "
      ]
     },
     "execution_count": 6,
     "metadata": {},
     "output_type": "execute_result"
    }
   ],
   "source": [
    "data_merged = pd.merge(mouse_metadata, study_results, how=\"left\", on=[\"Mouse ID\", \"Mouse ID\"])\n",
    "data_merged.head()"
   ]
  },
  {
   "cell_type": "code",
   "execution_count": 7,
   "metadata": {},
   "outputs": [
    {
     "data": {
      "text/html": [
       "<div>\n",
       "<style scoped>\n",
       "    .dataframe tbody tr th:only-of-type {\n",
       "        vertical-align: middle;\n",
       "    }\n",
       "\n",
       "    .dataframe tbody tr th {\n",
       "        vertical-align: top;\n",
       "    }\n",
       "\n",
       "    .dataframe thead th {\n",
       "        text-align: right;\n",
       "    }\n",
       "</style>\n",
       "<table border=\"1\" class=\"dataframe\">\n",
       "  <thead>\n",
       "    <tr style=\"text-align: right;\">\n",
       "      <th></th>\n",
       "      <th>Mouse ID</th>\n",
       "      <th>Drug Regimen</th>\n",
       "      <th>Sex</th>\n",
       "      <th>Age_months</th>\n",
       "      <th>Weight (g)</th>\n",
       "      <th>Timepoint</th>\n",
       "      <th>Tumor Volume (mm3)</th>\n",
       "      <th>Metastatic Sites</th>\n",
       "    </tr>\n",
       "  </thead>\n",
       "  <tbody>\n",
       "    <tr>\n",
       "      <th>0</th>\n",
       "      <td>k403</td>\n",
       "      <td>Ramicane</td>\n",
       "      <td>Male</td>\n",
       "      <td>21</td>\n",
       "      <td>16</td>\n",
       "      <td>0</td>\n",
       "      <td>45.000000</td>\n",
       "      <td>0</td>\n",
       "    </tr>\n",
       "    <tr>\n",
       "      <th>1</th>\n",
       "      <td>k403</td>\n",
       "      <td>Ramicane</td>\n",
       "      <td>Male</td>\n",
       "      <td>21</td>\n",
       "      <td>16</td>\n",
       "      <td>5</td>\n",
       "      <td>38.825898</td>\n",
       "      <td>0</td>\n",
       "    </tr>\n",
       "    <tr>\n",
       "      <th>2</th>\n",
       "      <td>k403</td>\n",
       "      <td>Ramicane</td>\n",
       "      <td>Male</td>\n",
       "      <td>21</td>\n",
       "      <td>16</td>\n",
       "      <td>10</td>\n",
       "      <td>35.014271</td>\n",
       "      <td>1</td>\n",
       "    </tr>\n",
       "    <tr>\n",
       "      <th>3</th>\n",
       "      <td>k403</td>\n",
       "      <td>Ramicane</td>\n",
       "      <td>Male</td>\n",
       "      <td>21</td>\n",
       "      <td>16</td>\n",
       "      <td>15</td>\n",
       "      <td>34.223992</td>\n",
       "      <td>1</td>\n",
       "    </tr>\n",
       "    <tr>\n",
       "      <th>4</th>\n",
       "      <td>k403</td>\n",
       "      <td>Ramicane</td>\n",
       "      <td>Male</td>\n",
       "      <td>21</td>\n",
       "      <td>16</td>\n",
       "      <td>20</td>\n",
       "      <td>32.997729</td>\n",
       "      <td>1</td>\n",
       "    </tr>\n",
       "    <tr>\n",
       "      <th>10</th>\n",
       "      <td>s185</td>\n",
       "      <td>Capomulin</td>\n",
       "      <td>Female</td>\n",
       "      <td>3</td>\n",
       "      <td>17</td>\n",
       "      <td>0</td>\n",
       "      <td>45.000000</td>\n",
       "      <td>0</td>\n",
       "    </tr>\n",
       "    <tr>\n",
       "      <th>11</th>\n",
       "      <td>s185</td>\n",
       "      <td>Capomulin</td>\n",
       "      <td>Female</td>\n",
       "      <td>3</td>\n",
       "      <td>17</td>\n",
       "      <td>5</td>\n",
       "      <td>43.878496</td>\n",
       "      <td>0</td>\n",
       "    </tr>\n",
       "    <tr>\n",
       "      <th>12</th>\n",
       "      <td>s185</td>\n",
       "      <td>Capomulin</td>\n",
       "      <td>Female</td>\n",
       "      <td>3</td>\n",
       "      <td>17</td>\n",
       "      <td>10</td>\n",
       "      <td>37.614948</td>\n",
       "      <td>0</td>\n",
       "    </tr>\n",
       "    <tr>\n",
       "      <th>13</th>\n",
       "      <td>s185</td>\n",
       "      <td>Capomulin</td>\n",
       "      <td>Female</td>\n",
       "      <td>3</td>\n",
       "      <td>17</td>\n",
       "      <td>15</td>\n",
       "      <td>38.177232</td>\n",
       "      <td>0</td>\n",
       "    </tr>\n",
       "    <tr>\n",
       "      <th>14</th>\n",
       "      <td>s185</td>\n",
       "      <td>Capomulin</td>\n",
       "      <td>Female</td>\n",
       "      <td>3</td>\n",
       "      <td>17</td>\n",
       "      <td>20</td>\n",
       "      <td>36.866876</td>\n",
       "      <td>0</td>\n",
       "    </tr>\n",
       "    <tr>\n",
       "      <th>454</th>\n",
       "      <td>a203</td>\n",
       "      <td>Infubinol</td>\n",
       "      <td>Female</td>\n",
       "      <td>20</td>\n",
       "      <td>23</td>\n",
       "      <td>0</td>\n",
       "      <td>45.000000</td>\n",
       "      <td>0</td>\n",
       "    </tr>\n",
       "    <tr>\n",
       "      <th>455</th>\n",
       "      <td>a203</td>\n",
       "      <td>Infubinol</td>\n",
       "      <td>Female</td>\n",
       "      <td>20</td>\n",
       "      <td>23</td>\n",
       "      <td>5</td>\n",
       "      <td>48.508468</td>\n",
       "      <td>0</td>\n",
       "    </tr>\n",
       "    <tr>\n",
       "      <th>456</th>\n",
       "      <td>a203</td>\n",
       "      <td>Infubinol</td>\n",
       "      <td>Female</td>\n",
       "      <td>20</td>\n",
       "      <td>23</td>\n",
       "      <td>10</td>\n",
       "      <td>51.852437</td>\n",
       "      <td>1</td>\n",
       "    </tr>\n",
       "    <tr>\n",
       "      <th>457</th>\n",
       "      <td>a203</td>\n",
       "      <td>Infubinol</td>\n",
       "      <td>Female</td>\n",
       "      <td>20</td>\n",
       "      <td>23</td>\n",
       "      <td>15</td>\n",
       "      <td>52.777870</td>\n",
       "      <td>1</td>\n",
       "    </tr>\n",
       "    <tr>\n",
       "      <th>458</th>\n",
       "      <td>a203</td>\n",
       "      <td>Infubinol</td>\n",
       "      <td>Female</td>\n",
       "      <td>20</td>\n",
       "      <td>23</td>\n",
       "      <td>20</td>\n",
       "      <td>55.173336</td>\n",
       "      <td>1</td>\n",
       "    </tr>\n",
       "    <tr>\n",
       "      <th>474</th>\n",
       "      <td>a262</td>\n",
       "      <td>Placebo</td>\n",
       "      <td>Female</td>\n",
       "      <td>17</td>\n",
       "      <td>29</td>\n",
       "      <td>0</td>\n",
       "      <td>45.000000</td>\n",
       "      <td>0</td>\n",
       "    </tr>\n",
       "    <tr>\n",
       "      <th>475</th>\n",
       "      <td>a262</td>\n",
       "      <td>Placebo</td>\n",
       "      <td>Female</td>\n",
       "      <td>17</td>\n",
       "      <td>29</td>\n",
       "      <td>5</td>\n",
       "      <td>48.717568</td>\n",
       "      <td>1</td>\n",
       "    </tr>\n",
       "    <tr>\n",
       "      <th>476</th>\n",
       "      <td>a262</td>\n",
       "      <td>Placebo</td>\n",
       "      <td>Female</td>\n",
       "      <td>17</td>\n",
       "      <td>29</td>\n",
       "      <td>10</td>\n",
       "      <td>49.595181</td>\n",
       "      <td>1</td>\n",
       "    </tr>\n",
       "    <tr>\n",
       "      <th>477</th>\n",
       "      <td>a262</td>\n",
       "      <td>Placebo</td>\n",
       "      <td>Female</td>\n",
       "      <td>17</td>\n",
       "      <td>29</td>\n",
       "      <td>15</td>\n",
       "      <td>53.827974</td>\n",
       "      <td>2</td>\n",
       "    </tr>\n",
       "    <tr>\n",
       "      <th>478</th>\n",
       "      <td>a262</td>\n",
       "      <td>Placebo</td>\n",
       "      <td>Female</td>\n",
       "      <td>17</td>\n",
       "      <td>29</td>\n",
       "      <td>20</td>\n",
       "      <td>57.013313</td>\n",
       "      <td>2</td>\n",
       "    </tr>\n",
       "    <tr>\n",
       "      <th>484</th>\n",
       "      <td>a275</td>\n",
       "      <td>Ceftamin</td>\n",
       "      <td>Female</td>\n",
       "      <td>20</td>\n",
       "      <td>28</td>\n",
       "      <td>0</td>\n",
       "      <td>45.000000</td>\n",
       "      <td>0</td>\n",
       "    </tr>\n",
       "    <tr>\n",
       "      <th>485</th>\n",
       "      <td>a275</td>\n",
       "      <td>Ceftamin</td>\n",
       "      <td>Female</td>\n",
       "      <td>20</td>\n",
       "      <td>28</td>\n",
       "      <td>5</td>\n",
       "      <td>46.795257</td>\n",
       "      <td>0</td>\n",
       "    </tr>\n",
       "    <tr>\n",
       "      <th>486</th>\n",
       "      <td>a275</td>\n",
       "      <td>Ceftamin</td>\n",
       "      <td>Female</td>\n",
       "      <td>20</td>\n",
       "      <td>28</td>\n",
       "      <td>10</td>\n",
       "      <td>47.371343</td>\n",
       "      <td>0</td>\n",
       "    </tr>\n",
       "    <tr>\n",
       "      <th>487</th>\n",
       "      <td>a275</td>\n",
       "      <td>Ceftamin</td>\n",
       "      <td>Female</td>\n",
       "      <td>20</td>\n",
       "      <td>28</td>\n",
       "      <td>15</td>\n",
       "      <td>49.734404</td>\n",
       "      <td>0</td>\n",
       "    </tr>\n",
       "    <tr>\n",
       "      <th>488</th>\n",
       "      <td>a275</td>\n",
       "      <td>Ceftamin</td>\n",
       "      <td>Female</td>\n",
       "      <td>20</td>\n",
       "      <td>28</td>\n",
       "      <td>20</td>\n",
       "      <td>50.513437</td>\n",
       "      <td>1</td>\n",
       "    </tr>\n",
       "    <tr>\n",
       "      <th>494</th>\n",
       "      <td>a366</td>\n",
       "      <td>Stelasyn</td>\n",
       "      <td>Female</td>\n",
       "      <td>16</td>\n",
       "      <td>29</td>\n",
       "      <td>0</td>\n",
       "      <td>45.000000</td>\n",
       "      <td>0</td>\n",
       "    </tr>\n",
       "    <tr>\n",
       "      <th>495</th>\n",
       "      <td>a366</td>\n",
       "      <td>Stelasyn</td>\n",
       "      <td>Female</td>\n",
       "      <td>16</td>\n",
       "      <td>29</td>\n",
       "      <td>5</td>\n",
       "      <td>48.951368</td>\n",
       "      <td>0</td>\n",
       "    </tr>\n",
       "    <tr>\n",
       "      <th>496</th>\n",
       "      <td>a366</td>\n",
       "      <td>Stelasyn</td>\n",
       "      <td>Female</td>\n",
       "      <td>16</td>\n",
       "      <td>29</td>\n",
       "      <td>10</td>\n",
       "      <td>53.523990</td>\n",
       "      <td>0</td>\n",
       "    </tr>\n",
       "    <tr>\n",
       "      <th>497</th>\n",
       "      <td>a366</td>\n",
       "      <td>Stelasyn</td>\n",
       "      <td>Female</td>\n",
       "      <td>16</td>\n",
       "      <td>29</td>\n",
       "      <td>15</td>\n",
       "      <td>55.265582</td>\n",
       "      <td>0</td>\n",
       "    </tr>\n",
       "    <tr>\n",
       "      <th>498</th>\n",
       "      <td>a366</td>\n",
       "      <td>Stelasyn</td>\n",
       "      <td>Female</td>\n",
       "      <td>16</td>\n",
       "      <td>29</td>\n",
       "      <td>20</td>\n",
       "      <td>57.285987</td>\n",
       "      <td>0</td>\n",
       "    </tr>\n",
       "    <tr>\n",
       "      <th>501</th>\n",
       "      <td>a401</td>\n",
       "      <td>Zoniferol</td>\n",
       "      <td>Female</td>\n",
       "      <td>8</td>\n",
       "      <td>25</td>\n",
       "      <td>0</td>\n",
       "      <td>45.000000</td>\n",
       "      <td>0</td>\n",
       "    </tr>\n",
       "    <tr>\n",
       "      <th>502</th>\n",
       "      <td>a401</td>\n",
       "      <td>Zoniferol</td>\n",
       "      <td>Female</td>\n",
       "      <td>8</td>\n",
       "      <td>25</td>\n",
       "      <td>5</td>\n",
       "      <td>46.111986</td>\n",
       "      <td>0</td>\n",
       "    </tr>\n",
       "    <tr>\n",
       "      <th>503</th>\n",
       "      <td>a401</td>\n",
       "      <td>Zoniferol</td>\n",
       "      <td>Female</td>\n",
       "      <td>8</td>\n",
       "      <td>25</td>\n",
       "      <td>10</td>\n",
       "      <td>47.725937</td>\n",
       "      <td>1</td>\n",
       "    </tr>\n",
       "    <tr>\n",
       "      <th>504</th>\n",
       "      <td>a401</td>\n",
       "      <td>Zoniferol</td>\n",
       "      <td>Female</td>\n",
       "      <td>8</td>\n",
       "      <td>25</td>\n",
       "      <td>15</td>\n",
       "      <td>49.934725</td>\n",
       "      <td>1</td>\n",
       "    </tr>\n",
       "    <tr>\n",
       "      <th>505</th>\n",
       "      <td>a401</td>\n",
       "      <td>Zoniferol</td>\n",
       "      <td>Female</td>\n",
       "      <td>8</td>\n",
       "      <td>25</td>\n",
       "      <td>20</td>\n",
       "      <td>52.204511</td>\n",
       "      <td>2</td>\n",
       "    </tr>\n",
       "    <tr>\n",
       "      <th>511</th>\n",
       "      <td>a457</td>\n",
       "      <td>Ketapril</td>\n",
       "      <td>Female</td>\n",
       "      <td>11</td>\n",
       "      <td>30</td>\n",
       "      <td>0</td>\n",
       "      <td>45.000000</td>\n",
       "      <td>0</td>\n",
       "    </tr>\n",
       "    <tr>\n",
       "      <th>512</th>\n",
       "      <td>a457</td>\n",
       "      <td>Ketapril</td>\n",
       "      <td>Female</td>\n",
       "      <td>11</td>\n",
       "      <td>30</td>\n",
       "      <td>5</td>\n",
       "      <td>47.462891</td>\n",
       "      <td>0</td>\n",
       "    </tr>\n",
       "    <tr>\n",
       "      <th>513</th>\n",
       "      <td>a457</td>\n",
       "      <td>Ketapril</td>\n",
       "      <td>Female</td>\n",
       "      <td>11</td>\n",
       "      <td>30</td>\n",
       "      <td>10</td>\n",
       "      <td>49.783419</td>\n",
       "      <td>0</td>\n",
       "    </tr>\n",
       "    <tr>\n",
       "      <th>541</th>\n",
       "      <td>a699</td>\n",
       "      <td>Propriva</td>\n",
       "      <td>Female</td>\n",
       "      <td>5</td>\n",
       "      <td>28</td>\n",
       "      <td>0</td>\n",
       "      <td>45.000000</td>\n",
       "      <td>0</td>\n",
       "    </tr>\n",
       "    <tr>\n",
       "      <th>542</th>\n",
       "      <td>a699</td>\n",
       "      <td>Propriva</td>\n",
       "      <td>Female</td>\n",
       "      <td>5</td>\n",
       "      <td>28</td>\n",
       "      <td>5</td>\n",
       "      <td>46.553090</td>\n",
       "      <td>0</td>\n",
       "    </tr>\n",
       "    <tr>\n",
       "      <th>543</th>\n",
       "      <td>a699</td>\n",
       "      <td>Propriva</td>\n",
       "      <td>Female</td>\n",
       "      <td>5</td>\n",
       "      <td>28</td>\n",
       "      <td>10</td>\n",
       "      <td>47.867376</td>\n",
       "      <td>0</td>\n",
       "    </tr>\n",
       "    <tr>\n",
       "      <th>544</th>\n",
       "      <td>a699</td>\n",
       "      <td>Propriva</td>\n",
       "      <td>Female</td>\n",
       "      <td>5</td>\n",
       "      <td>28</td>\n",
       "      <td>15</td>\n",
       "      <td>49.530401</td>\n",
       "      <td>0</td>\n",
       "    </tr>\n",
       "    <tr>\n",
       "      <th>545</th>\n",
       "      <td>a699</td>\n",
       "      <td>Propriva</td>\n",
       "      <td>Female</td>\n",
       "      <td>5</td>\n",
       "      <td>28</td>\n",
       "      <td>20</td>\n",
       "      <td>50.712423</td>\n",
       "      <td>0</td>\n",
       "    </tr>\n",
       "    <tr>\n",
       "      <th>558</th>\n",
       "      <td>a818</td>\n",
       "      <td>Naftisol</td>\n",
       "      <td>Female</td>\n",
       "      <td>12</td>\n",
       "      <td>28</td>\n",
       "      <td>0</td>\n",
       "      <td>45.000000</td>\n",
       "      <td>0</td>\n",
       "    </tr>\n",
       "    <tr>\n",
       "      <th>559</th>\n",
       "      <td>a818</td>\n",
       "      <td>Naftisol</td>\n",
       "      <td>Female</td>\n",
       "      <td>12</td>\n",
       "      <td>28</td>\n",
       "      <td>5</td>\n",
       "      <td>45.696709</td>\n",
       "      <td>0</td>\n",
       "    </tr>\n",
       "    <tr>\n",
       "      <th>560</th>\n",
       "      <td>a818</td>\n",
       "      <td>Naftisol</td>\n",
       "      <td>Female</td>\n",
       "      <td>12</td>\n",
       "      <td>28</td>\n",
       "      <td>10</td>\n",
       "      <td>49.790919</td>\n",
       "      <td>0</td>\n",
       "    </tr>\n",
       "    <tr>\n",
       "      <th>561</th>\n",
       "      <td>a818</td>\n",
       "      <td>Naftisol</td>\n",
       "      <td>Female</td>\n",
       "      <td>12</td>\n",
       "      <td>28</td>\n",
       "      <td>15</td>\n",
       "      <td>51.227566</td>\n",
       "      <td>0</td>\n",
       "    </tr>\n",
       "    <tr>\n",
       "      <th>562</th>\n",
       "      <td>a818</td>\n",
       "      <td>Naftisol</td>\n",
       "      <td>Female</td>\n",
       "      <td>12</td>\n",
       "      <td>28</td>\n",
       "      <td>20</td>\n",
       "      <td>54.834624</td>\n",
       "      <td>0</td>\n",
       "    </tr>\n",
       "    <tr>\n",
       "      <th>690</th>\n",
       "      <td>c580</td>\n",
       "      <td>Ketapril</td>\n",
       "      <td>Male</td>\n",
       "      <td>22</td>\n",
       "      <td>25</td>\n",
       "      <td>0</td>\n",
       "      <td>45.000000</td>\n",
       "      <td>0</td>\n",
       "    </tr>\n",
       "    <tr>\n",
       "      <th>691</th>\n",
       "      <td>c580</td>\n",
       "      <td>Ketapril</td>\n",
       "      <td>Male</td>\n",
       "      <td>22</td>\n",
       "      <td>25</td>\n",
       "      <td>5</td>\n",
       "      <td>46.628455</td>\n",
       "      <td>0</td>\n",
       "    </tr>\n",
       "  </tbody>\n",
       "</table>\n",
       "</div>"
      ],
      "text/plain": [
       "    Mouse ID Drug Regimen     Sex  Age_months  Weight (g)  Timepoint  \\\n",
       "0       k403     Ramicane    Male          21          16          0   \n",
       "1       k403     Ramicane    Male          21          16          5   \n",
       "2       k403     Ramicane    Male          21          16         10   \n",
       "3       k403     Ramicane    Male          21          16         15   \n",
       "4       k403     Ramicane    Male          21          16         20   \n",
       "10      s185    Capomulin  Female           3          17          0   \n",
       "11      s185    Capomulin  Female           3          17          5   \n",
       "12      s185    Capomulin  Female           3          17         10   \n",
       "13      s185    Capomulin  Female           3          17         15   \n",
       "14      s185    Capomulin  Female           3          17         20   \n",
       "454     a203    Infubinol  Female          20          23          0   \n",
       "455     a203    Infubinol  Female          20          23          5   \n",
       "456     a203    Infubinol  Female          20          23         10   \n",
       "457     a203    Infubinol  Female          20          23         15   \n",
       "458     a203    Infubinol  Female          20          23         20   \n",
       "474     a262      Placebo  Female          17          29          0   \n",
       "475     a262      Placebo  Female          17          29          5   \n",
       "476     a262      Placebo  Female          17          29         10   \n",
       "477     a262      Placebo  Female          17          29         15   \n",
       "478     a262      Placebo  Female          17          29         20   \n",
       "484     a275     Ceftamin  Female          20          28          0   \n",
       "485     a275     Ceftamin  Female          20          28          5   \n",
       "486     a275     Ceftamin  Female          20          28         10   \n",
       "487     a275     Ceftamin  Female          20          28         15   \n",
       "488     a275     Ceftamin  Female          20          28         20   \n",
       "494     a366     Stelasyn  Female          16          29          0   \n",
       "495     a366     Stelasyn  Female          16          29          5   \n",
       "496     a366     Stelasyn  Female          16          29         10   \n",
       "497     a366     Stelasyn  Female          16          29         15   \n",
       "498     a366     Stelasyn  Female          16          29         20   \n",
       "501     a401    Zoniferol  Female           8          25          0   \n",
       "502     a401    Zoniferol  Female           8          25          5   \n",
       "503     a401    Zoniferol  Female           8          25         10   \n",
       "504     a401    Zoniferol  Female           8          25         15   \n",
       "505     a401    Zoniferol  Female           8          25         20   \n",
       "511     a457     Ketapril  Female          11          30          0   \n",
       "512     a457     Ketapril  Female          11          30          5   \n",
       "513     a457     Ketapril  Female          11          30         10   \n",
       "541     a699     Propriva  Female           5          28          0   \n",
       "542     a699     Propriva  Female           5          28          5   \n",
       "543     a699     Propriva  Female           5          28         10   \n",
       "544     a699     Propriva  Female           5          28         15   \n",
       "545     a699     Propriva  Female           5          28         20   \n",
       "558     a818     Naftisol  Female          12          28          0   \n",
       "559     a818     Naftisol  Female          12          28          5   \n",
       "560     a818     Naftisol  Female          12          28         10   \n",
       "561     a818     Naftisol  Female          12          28         15   \n",
       "562     a818     Naftisol  Female          12          28         20   \n",
       "690     c580     Ketapril    Male          22          25          0   \n",
       "691     c580     Ketapril    Male          22          25          5   \n",
       "\n",
       "     Tumor Volume (mm3)  Metastatic Sites  \n",
       "0             45.000000                 0  \n",
       "1             38.825898                 0  \n",
       "2             35.014271                 1  \n",
       "3             34.223992                 1  \n",
       "4             32.997729                 1  \n",
       "10            45.000000                 0  \n",
       "11            43.878496                 0  \n",
       "12            37.614948                 0  \n",
       "13            38.177232                 0  \n",
       "14            36.866876                 0  \n",
       "454           45.000000                 0  \n",
       "455           48.508468                 0  \n",
       "456           51.852437                 1  \n",
       "457           52.777870                 1  \n",
       "458           55.173336                 1  \n",
       "474           45.000000                 0  \n",
       "475           48.717568                 1  \n",
       "476           49.595181                 1  \n",
       "477           53.827974                 2  \n",
       "478           57.013313                 2  \n",
       "484           45.000000                 0  \n",
       "485           46.795257                 0  \n",
       "486           47.371343                 0  \n",
       "487           49.734404                 0  \n",
       "488           50.513437                 1  \n",
       "494           45.000000                 0  \n",
       "495           48.951368                 0  \n",
       "496           53.523990                 0  \n",
       "497           55.265582                 0  \n",
       "498           57.285987                 0  \n",
       "501           45.000000                 0  \n",
       "502           46.111986                 0  \n",
       "503           47.725937                 1  \n",
       "504           49.934725                 1  \n",
       "505           52.204511                 2  \n",
       "511           45.000000                 0  \n",
       "512           47.462891                 0  \n",
       "513           49.783419                 0  \n",
       "541           45.000000                 0  \n",
       "542           46.553090                 0  \n",
       "543           47.867376                 0  \n",
       "544           49.530401                 0  \n",
       "545           50.712423                 0  \n",
       "558           45.000000                 0  \n",
       "559           45.696709                 0  \n",
       "560           49.790919                 0  \n",
       "561           51.227566                 0  \n",
       "562           54.834624                 0  \n",
       "690           45.000000                 0  \n",
       "691           46.628455                 0  "
      ]
     },
     "execution_count": 7,
     "metadata": {},
     "output_type": "execute_result"
    }
   ],
   "source": [
    "drug_regimen_group = data_merged.groupby(\"Drug Regimen\")\n",
    "drug_regimen_group.head()"
   ]
  },
  {
   "cell_type": "code",
   "execution_count": 8,
   "metadata": {},
   "outputs": [],
   "source": [
    "#Generate a summary statistics table of mean, median, variance, standard deviation, and SEM of the tumor volume for each Regimen\n",
    "tumor_vol = drug_regimen_group['Tumor Volume (mm3)']\n",
    "tumor_mean = drug_regimen_group['Tumor Volume (mm3)'].mean()\n",
    "#tumor_mean = np.mean(tumor_vol)\n",
    "tumor_median = drug_regimen_group['Tumor Volume (mm3)'].median()\n",
    "tumor_var = drug_regimen_group['Tumor Volume (mm3)'].var()\n",
    "tumor_stdev = drug_regimen_group['Tumor Volume (mm3)'].std()\n",
    "tumor_sem = drug_regimen_group['Tumor Volume (mm3)'].sem()\n",
    "regimen_count = drug_regimen_group['Drug Regimen'].count()\n"
   ]
  },
  {
   "cell_type": "code",
   "execution_count": 9,
   "metadata": {},
   "outputs": [
    {
     "data": {
      "text/html": [
       "<div>\n",
       "<style scoped>\n",
       "    .dataframe tbody tr th:only-of-type {\n",
       "        vertical-align: middle;\n",
       "    }\n",
       "\n",
       "    .dataframe tbody tr th {\n",
       "        vertical-align: top;\n",
       "    }\n",
       "\n",
       "    .dataframe thead th {\n",
       "        text-align: right;\n",
       "    }\n",
       "</style>\n",
       "<table border=\"1\" class=\"dataframe\">\n",
       "  <thead>\n",
       "    <tr style=\"text-align: right;\">\n",
       "      <th></th>\n",
       "      <th>Tumor Vol_mean</th>\n",
       "      <th>Tumor Vol_median</th>\n",
       "      <th>Tumor Vol_var</th>\n",
       "      <th>Tumor Vol_std dev</th>\n",
       "      <th>Tumor Vol_SEM</th>\n",
       "      <th>Regimen Count</th>\n",
       "    </tr>\n",
       "    <tr>\n",
       "      <th>Drug Regimen</th>\n",
       "      <th></th>\n",
       "      <th></th>\n",
       "      <th></th>\n",
       "      <th></th>\n",
       "      <th></th>\n",
       "      <th></th>\n",
       "    </tr>\n",
       "  </thead>\n",
       "  <tbody>\n",
       "    <tr>\n",
       "      <th>Capomulin</th>\n",
       "      <td>40.675741</td>\n",
       "      <td>41.557809</td>\n",
       "      <td>24.947764</td>\n",
       "      <td>4.994774</td>\n",
       "      <td>0.329346</td>\n",
       "      <td>230</td>\n",
       "    </tr>\n",
       "    <tr>\n",
       "      <th>Ceftamin</th>\n",
       "      <td>52.591172</td>\n",
       "      <td>51.776157</td>\n",
       "      <td>39.290177</td>\n",
       "      <td>6.268188</td>\n",
       "      <td>0.469821</td>\n",
       "      <td>178</td>\n",
       "    </tr>\n",
       "    <tr>\n",
       "      <th>Infubinol</th>\n",
       "      <td>52.884795</td>\n",
       "      <td>51.820584</td>\n",
       "      <td>43.128684</td>\n",
       "      <td>6.567243</td>\n",
       "      <td>0.492236</td>\n",
       "      <td>178</td>\n",
       "    </tr>\n",
       "    <tr>\n",
       "      <th>Ketapril</th>\n",
       "      <td>55.235638</td>\n",
       "      <td>53.698743</td>\n",
       "      <td>68.553577</td>\n",
       "      <td>8.279709</td>\n",
       "      <td>0.603860</td>\n",
       "      <td>188</td>\n",
       "    </tr>\n",
       "    <tr>\n",
       "      <th>Naftisol</th>\n",
       "      <td>54.331565</td>\n",
       "      <td>52.509285</td>\n",
       "      <td>66.173479</td>\n",
       "      <td>8.134708</td>\n",
       "      <td>0.596466</td>\n",
       "      <td>186</td>\n",
       "    </tr>\n",
       "  </tbody>\n",
       "</table>\n",
       "</div>"
      ],
      "text/plain": [
       "              Tumor Vol_mean  Tumor Vol_median  Tumor Vol_var  \\\n",
       "Drug Regimen                                                    \n",
       "Capomulin          40.675741         41.557809      24.947764   \n",
       "Ceftamin           52.591172         51.776157      39.290177   \n",
       "Infubinol          52.884795         51.820584      43.128684   \n",
       "Ketapril           55.235638         53.698743      68.553577   \n",
       "Naftisol           54.331565         52.509285      66.173479   \n",
       "\n",
       "              Tumor Vol_std dev  Tumor Vol_SEM  Regimen Count  \n",
       "Drug Regimen                                                   \n",
       "Capomulin              4.994774       0.329346            230  \n",
       "Ceftamin               6.268188       0.469821            178  \n",
       "Infubinol              6.567243       0.492236            178  \n",
       "Ketapril               8.279709       0.603860            188  \n",
       "Naftisol               8.134708       0.596466            186  "
      ]
     },
     "execution_count": 9,
     "metadata": {},
     "output_type": "execute_result"
    }
   ],
   "source": [
    "drug_regimen_sum = pd.DataFrame(\n",
    "            {\"Tumor Vol_mean\" : tumor_mean,\n",
    "             \"Tumor Vol_median\" : tumor_median,\n",
    "             \"Tumor Vol_var\" : tumor_var,\n",
    "             \"Tumor Vol_std dev\" : tumor_stdev,\n",
    "             \"Tumor Vol_SEM\" : tumor_sem,\n",
    "             \"Regimen Count\": regimen_count}\n",
    ")\n",
    "drug_regimen_sum.head()"
   ]
  },
  {
   "cell_type": "code",
   "execution_count": 10,
   "metadata": {},
   "outputs": [
    {
     "name": "stdout",
     "output_type": "stream",
     "text": [
      "              Tumor Vol_mean  Tumor Vol_median  Tumor Vol_var  \\\n",
      "Drug Regimen                                                    \n",
      "Capomulin          40.675741         41.557809      24.947764   \n",
      "Ceftamin           52.591172         51.776157      39.290177   \n",
      "Infubinol          52.884795         51.820584      43.128684   \n",
      "Ketapril           55.235638         53.698743      68.553577   \n",
      "Naftisol           54.331565         52.509285      66.173479   \n",
      "Placebo            54.033581         52.288934      61.168083   \n",
      "Propriva           52.322552         50.854632      42.351070   \n",
      "Ramicane           40.216745         40.673236      23.486704   \n",
      "Stelasyn           54.233149         52.431737      59.450562   \n",
      "Zoniferol          53.236507         51.818479      48.533355   \n",
      "\n",
      "              Tumor Vol_std dev  Tumor Vol_SEM  Regimen Count  \n",
      "Drug Regimen                                                   \n",
      "Capomulin              4.994774       0.329346            230  \n",
      "Ceftamin               6.268188       0.469821            178  \n",
      "Infubinol              6.567243       0.492236            178  \n",
      "Ketapril               8.279709       0.603860            188  \n",
      "Naftisol               8.134708       0.596466            186  \n",
      "Placebo                7.821003       0.581331            181  \n",
      "Propriva               6.507770       0.512884            161  \n",
      "Ramicane               4.846308       0.320955            228  \n",
      "Stelasyn               7.710419       0.573111            181  \n",
      "Zoniferol              6.966589       0.516398            182  \n"
     ]
    }
   ],
   "source": [
    "print(drug_regimen_sum)"
   ]
  },
  {
   "cell_type": "code",
   "execution_count": 11,
   "metadata": {},
   "outputs": [
    {
     "data": {
      "text/plain": [
       "([<matplotlib.axis.XTick at 0x14a124ef748>,\n",
       "  <matplotlib.axis.XTick at 0x14a124efcc8>,\n",
       "  <matplotlib.axis.XTick at 0x14a124f07c8>,\n",
       "  <matplotlib.axis.XTick at 0x14a1458b4c8>,\n",
       "  <matplotlib.axis.XTick at 0x14a1458bc48>,\n",
       "  <matplotlib.axis.XTick at 0x14a14592508>,\n",
       "  <matplotlib.axis.XTick at 0x14a14592e88>,\n",
       "  <matplotlib.axis.XTick at 0x14a14596808>,\n",
       "  <matplotlib.axis.XTick at 0x14a1459b288>,\n",
       "  <matplotlib.axis.XTick at 0x14a1459bd48>],\n",
       " <a list of 10 Text xticklabel objects>)"
      ]
     },
     "execution_count": 11,
     "metadata": {},
     "output_type": "execute_result"
    },
    {
     "data": {
      "image/png": "[encoded data removed]",
      "text/plain": [
       "<Figure size 432x288 with 1 Axes>"
      ]
     },
     "metadata": {
      "needs_background": "light"
     },
     "output_type": "display_data"
    }
   ],
   "source": [
    "x_axis = np.arange(len(drug_regimen_sum))\n",
    "xticks =[\"Capomulin\", \"Ceftamin\", \"Infubinol\", \"Ketapril\", \"Naftisol\", \"Placebo\", \"Propriva\", \"Ramicane\", \"Stelasyn\", \"Zoniferol\"]\n",
    "tick_locations = [value+0.4 for value in x_axis]\n",
    "plt.bar(x_axis, drug_regimen_sum[\"Regimen Count\"], color ='r')\n",
    "plt.xticks(tick_locations, xticks, rotation = 'vertical')\n"
   ]
  },
  {
   "cell_type": "code",
   "execution_count": 12,
   "metadata": {},
   "outputs": [
    {
     "name": "stdout",
     "output_type": "stream",
     "text": [
      "Drug Regimen\n",
      "Capomulin    230\n",
      "Ceftamin     178\n",
      "Infubinol    178\n",
      "Ketapril     188\n",
      "Naftisol     186\n",
      "Placebo      181\n",
      "Propriva     161\n",
      "Ramicane     228\n",
      "Stelasyn     181\n",
      "Zoniferol    182\n",
      "Name: Drug Regimen, dtype: int64\n"
     ]
    }
   ],
   "source": [
    "print(regimen_count)"
   ]
  },
  {
   "cell_type": "code",
   "execution_count": 13,
   "metadata": {},
   "outputs": [],
   "source": [
    "x_axis = len(regimen_count)"
   ]
  },
  {
   "cell_type": "code",
   "execution_count": 14,
   "metadata": {},
   "outputs": [
    {
     "data": {
      "text/plain": [
       "Text(0, 0.5, '# of treatments')"
      ]
     },
     "execution_count": 14,
     "metadata": {},
     "output_type": "execute_result"
    },
    {
     "data": {
      "image/png": "[encoded data removed]",
      "text/plain": [
       "<Figure size 432x288 with 1 Axes>"
      ]
     },
     "metadata": {
      "needs_background": "light"
     },
     "output_type": "display_data"
    }
   ],
   "source": [
    "ax = regimen_count.plot(kind=\"bar\", color = 'b')\n",
    "ax.set_ylabel(\"# of treatments\")"
   ]
  },
  {
   "cell_type": "code",
   "execution_count": 15,
   "metadata": {},
   "outputs": [
    {
     "name": "stdout",
     "output_type": "stream",
     "text": [
      "Sex\n",
      "Female    935\n",
      "Male      958\n",
      "Name: Sex, dtype: int64\n"
     ]
    }
   ],
   "source": [
    "gender_group = data_merged.groupby(\"Sex\")\n",
    "#drug_regimen_group.head()\n",
    "gender_count = gender_group['Sex'].count()\n",
    "print(gender_count)"
   ]
  },
  {
   "cell_type": "code",
   "execution_count": 16,
   "metadata": {},
   "outputs": [],
   "source": [
    "gender = ['Female', 'Male']\n",
    "colors = ['red', 'blue']\n",
    "explode = [0.1,0]"
   ]
  },
  {
   "cell_type": "code",
   "execution_count": 17,
   "metadata": {},
   "outputs": [
    {
     "data": {
      "text/plain": [
       "<function matplotlib.pyplot.show(*args, **kw)>"
      ]
     },
     "execution_count": 17,
     "metadata": {},
     "output_type": "execute_result"
    },
    {
     "data": {
      "image/png": "[encoded data removed]",
      "text/plain": [
       "<Figure size 432x288 with 1 Axes>"
      ]
     },
     "metadata": {},
     "output_type": "display_data"
    }
   ],
   "source": [
    "plt.pie(gender_count,labels=gender, explode=explode, colors=colors,\n",
    "        autopct=\"%1.1f%%\", shadow=True)#, startangle=140)\n",
    "plt.show"
   ]
  },
  {
   "cell_type": "code",
   "execution_count": 18,
   "metadata": {},
   "outputs": [
    {
     "data": {
      "text/plain": [
       "<matplotlib.axes._subplots.AxesSubplot at 0x14a145dc388>"
      ]
     },
     "execution_count": 18,
     "metadata": {},
     "output_type": "execute_result"
    },
    {
     "data": {
      "image/png": "[encoded data removed]",
      "text/plain": [
       "<Figure size 432x288 with 1 Axes>"
      ]
     },
     "metadata": {},
     "output_type": "display_data"
    }
   ],
   "source": [
    "# mouse by gender pie chart using pandas\n",
    "gender_count.plot.pie(colors=['r','b'], autopct='%.1f%%')"
   ]
  },
  {
   "cell_type": "code",
   "execution_count": 19,
   "metadata": {},
   "outputs": [
    {
     "data": {
      "text/html": [
       "<div>\n",
       "<style scoped>\n",
       "    .dataframe tbody tr th:only-of-type {\n",
       "        vertical-align: middle;\n",
       "    }\n",
       "\n",
       "    .dataframe tbody tr th {\n",
       "        vertical-align: top;\n",
       "    }\n",
       "\n",
       "    .dataframe thead th {\n",
       "        text-align: right;\n",
       "    }\n",
       "</style>\n",
       "<table border=\"1\" class=\"dataframe\">\n",
       "  <thead>\n",
       "    <tr style=\"text-align: right;\">\n",
       "      <th></th>\n",
       "      <th>Mouse ID</th>\n",
       "      <th>Timepoint</th>\n",
       "      <th>Tumor Volume (mm3)</th>\n",
       "      <th>Metastatic Sites</th>\n",
       "    </tr>\n",
       "  </thead>\n",
       "  <tbody>\n",
       "    <tr>\n",
       "      <th>0</th>\n",
       "      <td>b128</td>\n",
       "      <td>0</td>\n",
       "      <td>45.000000</td>\n",
       "      <td>0</td>\n",
       "    </tr>\n",
       "    <tr>\n",
       "      <th>1</th>\n",
       "      <td>f932</td>\n",
       "      <td>0</td>\n",
       "      <td>45.000000</td>\n",
       "      <td>0</td>\n",
       "    </tr>\n",
       "    <tr>\n",
       "      <th>2</th>\n",
       "      <td>g107</td>\n",
       "      <td>0</td>\n",
       "      <td>45.000000</td>\n",
       "      <td>0</td>\n",
       "    </tr>\n",
       "    <tr>\n",
       "      <th>3</th>\n",
       "      <td>a457</td>\n",
       "      <td>0</td>\n",
       "      <td>45.000000</td>\n",
       "      <td>0</td>\n",
       "    </tr>\n",
       "    <tr>\n",
       "      <th>4</th>\n",
       "      <td>c819</td>\n",
       "      <td>0</td>\n",
       "      <td>45.000000</td>\n",
       "      <td>0</td>\n",
       "    </tr>\n",
       "    <tr>\n",
       "      <th>...</th>\n",
       "      <td>...</td>\n",
       "      <td>...</td>\n",
       "      <td>...</td>\n",
       "      <td>...</td>\n",
       "    </tr>\n",
       "    <tr>\n",
       "      <th>1107</th>\n",
       "      <td>x401</td>\n",
       "      <td>20</td>\n",
       "      <td>36.065835</td>\n",
       "      <td>0</td>\n",
       "    </tr>\n",
       "    <tr>\n",
       "      <th>1108</th>\n",
       "      <td>m269</td>\n",
       "      <td>20</td>\n",
       "      <td>61.145866</td>\n",
       "      <td>0</td>\n",
       "    </tr>\n",
       "    <tr>\n",
       "      <th>1109</th>\n",
       "      <td>a963</td>\n",
       "      <td>20</td>\n",
       "      <td>51.463734</td>\n",
       "      <td>0</td>\n",
       "    </tr>\n",
       "    <tr>\n",
       "      <th>1110</th>\n",
       "      <td>p189</td>\n",
       "      <td>20</td>\n",
       "      <td>56.530204</td>\n",
       "      <td>3</td>\n",
       "    </tr>\n",
       "    <tr>\n",
       "      <th>1112</th>\n",
       "      <td>n304</td>\n",
       "      <td>20</td>\n",
       "      <td>49.253309</td>\n",
       "      <td>1</td>\n",
       "    </tr>\n",
       "  </tbody>\n",
       "</table>\n",
       "<p>1108 rows × 4 columns</p>\n",
       "</div>"
      ],
      "text/plain": [
       "     Mouse ID  Timepoint  Tumor Volume (mm3)  Metastatic Sites\n",
       "0        b128          0           45.000000                 0\n",
       "1        f932          0           45.000000                 0\n",
       "2        g107          0           45.000000                 0\n",
       "3        a457          0           45.000000                 0\n",
       "4        c819          0           45.000000                 0\n",
       "...       ...        ...                 ...               ...\n",
       "1107     x401         20           36.065835                 0\n",
       "1108     m269         20           61.145866                 0\n",
       "1109     a963         20           51.463734                 0\n",
       "1110     p189         20           56.530204                 3\n",
       "1112     n304         20           49.253309                 1\n",
       "\n",
       "[1108 rows x 4 columns]"
      ]
     },
     "execution_count": 19,
     "metadata": {},
     "output_type": "execute_result"
    }
   ],
   "source": [
    "mouse_gp = study_results.groupby(\"Mouse ID\")\n",
    "mouse_gp.head()"
   ]
  },
  {
   "cell_type": "code",
   "execution_count": 20,
   "metadata": {},
   "outputs": [
    {
     "name": "stdout",
     "output_type": "stream",
     "text": [
      "     Mouse ID Drug Regimen     Sex  Age_months  Weight (g)  Timepoint  \\\n",
      "454      a203    Infubinol  Female          20          23          0   \n",
      "455      a203    Infubinol  Female          20          23          5   \n",
      "456      a203    Infubinol  Female          20          23         10   \n",
      "457      a203    Infubinol  Female          20          23         15   \n",
      "458      a203    Infubinol  Female          20          23         20   \n",
      "...       ...          ...     ...         ...         ...        ...   \n",
      "1888     z969     Naftisol    Male           9          30         25   \n",
      "1889     z969     Naftisol    Male           9          30         30   \n",
      "1890     z969     Naftisol    Male           9          30         35   \n",
      "1891     z969     Naftisol    Male           9          30         40   \n",
      "1892     z969     Naftisol    Male           9          30         45   \n",
      "\n",
      "      Tumor Volume (mm3)  Metastatic Sites  \n",
      "454            45.000000                 0  \n",
      "455            48.508468                 0  \n",
      "456            51.852437                 1  \n",
      "457            52.777870                 1  \n",
      "458            55.173336                 1  \n",
      "...                  ...               ...  \n",
      "1888           63.145652                 2  \n",
      "1889           65.841013                 3  \n",
      "1890           69.176246                 4  \n",
      "1891           70.314904                 4  \n",
      "1892           73.867845                 4  \n",
      "\n",
      "[1893 rows x 8 columns]\n"
     ]
    }
   ],
   "source": [
    "sresults_sorted = data_merged .sort_values(by=['Mouse ID', 'Timepoint'])\n",
    "print(sresults_sorted)"
   ]
  },
  {
   "cell_type": "code",
   "execution_count": 21,
   "metadata": {},
   "outputs": [],
   "source": [
    "df=sresults_sorted.groupby(\"Mouse ID\").tail(1)"
   ]
  },
  {
   "cell_type": "code",
   "execution_count": 22,
   "metadata": {},
   "outputs": [
    {
     "name": "stdout",
     "output_type": "stream",
     "text": [
      "     Mouse ID  Tumor Volume (mm3) Drug Regimen\n",
      "309      b128           38.982878    Capomulin\n",
      "299      b742           38.939633    Capomulin\n",
      "64       f966           30.485985    Capomulin\n",
      "244      g288           37.074024    Capomulin\n",
      "360      g316           40.159220    Capomulin\n",
      "440      i557           47.685963    Capomulin\n",
      "204      i738           37.311846    Capomulin\n",
      "337      j119           38.125164    Capomulin\n",
      "317      j246           38.753265    Capomulin\n",
      "380      l509           41.483008    Capomulin\n",
      "282      l897           38.846876    Capomulin\n",
      "39       m601           28.430964    Capomulin\n",
      "144      m957           33.329098    Capomulin\n",
      "1455     r157           46.539206    Capomulin\n",
      "134      r554           32.377357    Capomulin\n",
      "390      r944           41.581521    Capomulin\n",
      "19       s185           23.343598    Capomulin\n",
      "370      s710           40.728578    Capomulin\n",
      "164      t565           34.455298    Capomulin\n",
      "104      u364           31.023923    Capomulin\n",
      "350      v923           40.658124    Capomulin\n",
      "340      w150           39.952347    Capomulin\n",
      "224      w914           36.041047    Capomulin\n",
      "29       x401           28.484033    Capomulin\n",
      "124      y793           31.896238    Capomulin\n"
     ]
    }
   ],
   "source": [
    "df1 = pd.DataFrame(df, columns = ['Mouse ID','Tumor Volume (mm3)', 'Drug Regimen'])\n",
    "cap_df = df1[df1['Drug Regimen'] == 'Capomulin']\n",
    "print(cap_df)"
   ]
  },
  {
   "cell_type": "code",
   "execution_count": 23,
   "metadata": {},
   "outputs": [
    {
     "name": "stdout",
     "output_type": "stream",
     "text": [
      "32.37735684\n",
      "38.125164399999996\n",
      "40.1592203\n",
      "7.781863460000004\n"
     ]
    }
   ],
   "source": [
    "cap_vol = cap_df['Tumor Volume (mm3)']\n",
    "cap_qtr = cap_vol.quantile([.25, .5, .75]) \n",
    "cap_low = cap_qtr[0.25]\n",
    "cap_mid = cap_qtr[0.5]\n",
    "cap_high = cap_qtr[0.75]\n",
    "cap_iqr = cap_high - cap_low\n",
    "print(cap_low)\n",
    "print(cap_mid)\n",
    "print(cap_high)\n",
    "print(cap_iqr)"
   ]
  },
  {
   "cell_type": "code",
   "execution_count": 24,
   "metadata": {},
   "outputs": [
    {
     "name": "stdout",
     "output_type": "stream",
     "text": [
      "    Mouse ID  Tumor Volume (mm3) Drug Regimen\n",
      "327     a411           38.407618     Ramicane\n",
      "430     a444           43.047543     Ramicane\n",
      "214     a520           38.810366     Ramicane\n",
      "174     a644           32.978522     Ramicane\n",
      "289     c458           38.342008     Ramicane\n",
      "154     c758           33.397653     Ramicane\n",
      "272     d251           37.311236     Ramicane\n",
      "400     e662           40.659006     Ramicane\n",
      "49      g791           29.128472     Ramicane\n",
      "184     i177           33.562402     Ramicane\n",
      "254     i334           36.374510     Ramicane\n",
      "94      j913           31.560470     Ramicane\n",
      "194     j989           36.134852     Ramicane\n",
      "9       k403           22.050126     Ramicane\n",
      "74      m546           30.564625     Ramicane\n",
      "114     n364           31.095335     Ramicane\n",
      "420     q597           45.220869     Ramicane\n",
      "262     q610           36.561652     Ramicane\n",
      "234     r811           37.225650     Ramicane\n",
      "447     r921           43.419381     Ramicane\n",
      "59      s508           30.276232     Ramicane\n",
      "410     u196           40.667713     Ramicane\n",
      "449     w678           43.166373     Ramicane\n",
      "453     y449           44.183451     Ramicane\n",
      "84      z578           30.638696     Ramicane\n"
     ]
    }
   ],
   "source": [
    "ram_df = df1[df1['Drug Regimen'] == 'Ramicane']\n",
    "print(ram_df)"
   ]
  },
  {
   "cell_type": "code",
   "execution_count": 25,
   "metadata": {},
   "outputs": [
    {
     "name": "stdout",
     "output_type": "stream",
     "text": [
      "31.56046955\n",
      "36.56165229\n",
      "40.65900627\n",
      "9.098536719999998\n"
     ]
    }
   ],
   "source": [
    "ram_vol = ram_df['Tumor Volume (mm3)']\n",
    "ram_qtr = ram_vol.quantile([.25, .5, .75]) \n",
    "ram_low = ram_qtr[0.25]\n",
    "ram_mid = ram_qtr[0.5]\n",
    "ram_high = ram_qtr[0.75]\n",
    "ram_iqr = ram_high - ram_low\n",
    "print(ram_low)\n",
    "print(ram_mid)\n",
    "print(ram_high)\n",
    "print(ram_iqr)"
   ]
  },
  {
   "cell_type": "code",
   "execution_count": 26,
   "metadata": {},
   "outputs": [
    {
     "name": "stdout",
     "output_type": "stream",
     "text": [
      "     Mouse ID  Tumor Volume (mm3) Drug Regimen\n",
      "463      a203           67.973419    Infubinol\n",
      "473      a251           65.525743    Infubinol\n",
      "530      a577           57.031862    Infubinol\n",
      "540      a685           66.083066    Infubinol\n",
      "637      c139           72.226731    Infubinol\n",
      "669      c326           36.321346    Infubinol\n",
      "742      c895           60.969711    Infubinol\n",
      "800      e476           62.435404    Infubinol\n",
      "834      f345           60.918767    Infubinol\n",
      "949      i386           67.289621    Infubinol\n",
      "1053     k483           66.196912    Infubinol\n",
      "1076     k804           62.117279    Infubinol\n",
      "1205     m756           47.010364    Infubinol\n",
      "1225     n671           60.165180    Infubinol\n",
      "1312     o809           55.629428    Infubinol\n",
      "1314     o813           45.699331    Infubinol\n",
      "1397     q132           54.656549    Infubinol\n",
      "1485     s121           55.650681    Infubinol\n",
      "1616     v339           46.250112    Infubinol\n",
      "1632     v719           54.048608    Infubinol\n",
      "1640     v766           51.542431    Infubinol\n",
      "1683     w193           50.005138    Infubinol\n",
      "1726     w584           58.268442    Infubinol\n",
      "1813     y163           67.685569    Infubinol\n",
      "1872     z581           62.754451    Infubinol\n"
     ]
    }
   ],
   "source": [
    "inf_df = df1[df1['Drug Regimen'] == 'Infubinol']\n",
    "print(inf_df)"
   ]
  },
  {
   "cell_type": "code",
   "execution_count": 27,
   "metadata": {},
   "outputs": [
    {
     "name": "stdout",
     "output_type": "stream",
     "text": [
      "54.04860769\n",
      "60.16518046\n",
      "65.52574285\n",
      "11.477135160000003\n"
     ]
    }
   ],
   "source": [
    "inf_vol = inf_df['Tumor Volume (mm3)']\n",
    "inf_qtr = inf_vol.quantile([.25, .5, .75]) \n",
    "inf_low = inf_qtr[0.25]\n",
    "inf_mid = inf_qtr[0.5]\n",
    "inf_high = inf_qtr[0.75]\n",
    "inf_iqr = inf_high - inf_low\n",
    "print(inf_low)\n",
    "print(inf_mid)\n",
    "print(inf_high)\n",
    "print(inf_iqr)"
   ]
  },
  {
   "cell_type": "code",
   "execution_count": 28,
   "metadata": {},
   "outputs": [
    {
     "name": "stdout",
     "output_type": "stream",
     "text": [
      "     Mouse ID  Tumor Volume (mm3) Drug Regimen\n",
      "493      a275           62.999356     Ceftamin\n",
      "594      b447           45.000000     Ceftamin\n",
      "600      b487           56.057749     Ceftamin\n",
      "617      b759           55.742829     Ceftamin\n",
      "840      f436           48.722078     Ceftamin\n",
      "940      h531           47.784682     Ceftamin\n",
      "993      j296           61.849023     Ceftamin\n",
      "1033     k210           68.923185     Ceftamin\n",
      "1112     l471           67.748662     Ceftamin\n",
      "1119     l490           57.918381     Ceftamin\n",
      "1122     l558           46.784535     Ceftamin\n",
      "1132     l661           59.851956     Ceftamin\n",
      "1162     l733           64.299830     Ceftamin\n",
      "1260     o287           59.741901     Ceftamin\n",
      "1379     p438           61.433892     Ceftamin\n",
      "1406     q483           64.192341     Ceftamin\n",
      "1551     t573           45.000000     Ceftamin\n",
      "1582     u149           52.925348     Ceftamin\n",
      "1583     u153           45.000000     Ceftamin\n",
      "1670     w151           67.527482     Ceftamin\n",
      "1743     x226           45.000000     Ceftamin\n",
      "1773     x581           64.634949     Ceftamin\n",
      "1797     x822           61.386660     Ceftamin\n",
      "1845     y769           68.594745     Ceftamin\n",
      "1855     y865           64.729837     Ceftamin\n"
     ]
    }
   ],
   "source": [
    "cef_df = df1[df1['Drug Regimen'] == 'Ceftamin']\n",
    "print(cef_df)"
   ]
  },
  {
   "cell_type": "code",
   "execution_count": 29,
   "metadata": {},
   "outputs": [
    {
     "name": "stdout",
     "output_type": "stream",
     "text": [
      "48.72207785\n",
      "59.85195552\n",
      "64.29983003\n",
      "15.577752179999997\n"
     ]
    }
   ],
   "source": [
    "cef_vol = cef_df['Tumor Volume (mm3)']\n",
    "cef_qtr = cef_vol.quantile([.25, .5, .75]) \n",
    "cef_low = cef_qtr[0.25]\n",
    "cef_mid = cef_qtr[0.5]\n",
    "cef_high = cef_qtr[0.75]\n",
    "cef_iqr = cef_high - cef_low\n",
    "print(cef_low)\n",
    "print(cef_mid)\n",
    "print(cef_high)\n",
    "print(cef_iqr)"
   ]
  },
  {
   "cell_type": "code",
   "execution_count": 30,
   "metadata": {},
   "outputs": [
    {
     "data": {
      "text/plain": [
       "<function matplotlib.pyplot.show(*args, **kw)>"
      ]
     },
     "execution_count": 30,
     "metadata": {},
     "output_type": "execute_result"
    },
    {
     "data": {
      "image/png": "[encoded data removed]",
      "text/plain": [
       "<Figure size 432x288 with 1 Axes>"
      ]
     },
     "metadata": {
      "needs_background": "light"
     },
     "output_type": "display_data"
    }
   ],
   "source": [
    "cef_vol = cef_df['Tumor Volume (mm3)']\n",
    "fig1, ax1 = plt.subplots()\n",
    "ax1.boxplot(cef_vol)\n",
    "ax1.set_title('Ceftamin')\n",
    "ax1.set_ylabel('Final Tumor Vol')\n",
    "plt.show"
   ]
  },
  {
   "cell_type": "code",
   "execution_count": 31,
   "metadata": {},
   "outputs": [
    {
     "data": {
      "text/plain": [
       "<function matplotlib.pyplot.show(*args, **kw)>"
      ]
     },
     "execution_count": 31,
     "metadata": {},
     "output_type": "execute_result"
    },
    {
     "data": {
      "image/png": "[encoded data removed]",
      "text/plain": [
       "<Figure size 432x288 with 1 Axes>"
      ]
     },
     "metadata": {
      "needs_background": "light"
     },
     "output_type": "display_data"
    }
   ],
   "source": [
    "cap_vol = cap_df['Tumor Volume (mm3)']\n",
    "fig2, ax2 = plt.subplots()\n",
    "ax2.boxplot(cap_vol)\n",
    "ax2.set_title('Capomulin')\n",
    "ax2.set_ylabel('Final Tumor Vol')\n",
    "plt.show"
   ]
  },
  {
   "cell_type": "code",
   "execution_count": 32,
   "metadata": {},
   "outputs": [
    {
     "data": {
      "text/plain": [
       "<function matplotlib.pyplot.show(*args, **kw)>"
      ]
     },
     "execution_count": 32,
     "metadata": {},
     "output_type": "execute_result"
    },
    {
     "data": {
      "image/png": "[encoded data removed]",
      "text/plain": [
       "<Figure size 432x288 with 1 Axes>"
      ]
     },
     "metadata": {
      "needs_background": "light"
     },
     "output_type": "display_data"
    }
   ],
   "source": [
    "ram_vol = ram_df['Tumor Volume (mm3)']\n",
    "fig3, ax3 = plt.subplots()\n",
    "ax3.boxplot(ram_vol)\n",
    "ax3.set_title('Ramicane')\n",
    "ax3.set_ylabel('Final Tumor Vol')\n",
    "plt.show"
   ]
  },
  {
   "cell_type": "code",
   "execution_count": 33,
   "metadata": {},
   "outputs": [
    {
     "data": {
      "text/plain": [
       "<function matplotlib.pyplot.show(*args, **kw)>"
      ]
     },
     "execution_count": 33,
     "metadata": {},
     "output_type": "execute_result"
    },
    {
     "data": {
      "image/png": "[encoded data removed]",
      "text/plain": [
       "<Figure size 432x288 with 1 Axes>"
      ]
     },
     "metadata": {
      "needs_background": "light"
     },
     "output_type": "display_data"
    }
   ],
   "source": [
    "green_diamond = dict(markerfacecolor='g', marker='D')\n",
    "inf_vol = inf_df['Tumor Volume (mm3)']\n",
    "fig4, ax4 = plt.subplots()\n",
    "#ax4.boxplot(inf_vol)\n",
    "ax4.set_title('Infubinol')\n",
    "ax4.set_ylabel('Final Tumor Vol')\n",
    "ax4.boxplot(inf_vol, flierprops=green_diamond)\n",
    "plt.show"
   ]
  },
  {
   "cell_type": "code",
   "execution_count": 34,
   "metadata": {},
   "outputs": [
    {
     "data": {
      "text/plain": [
       "<function matplotlib.pyplot.show(*args, **kw)>"
      ]
     },
     "execution_count": 34,
     "metadata": {},
     "output_type": "execute_result"
    },
    {
     "data": {
      "image/png": "[encoded data removed]",
      "text/plain": [
       "<Figure size 432x288 with 1 Axes>"
      ]
     },
     "metadata": {
      "needs_background": "light"
     },
     "output_type": "display_data"
    }
   ],
   "source": [
    "green_diamond = dict(markerfacecolor='g', marker='D')\n",
    "fig5, ax5 = plt.subplots()\n",
    "ax5.boxplot( [inf_vol, cef_vol, ram_vol, cap_vol], flierprops=green_diamond)   \n",
    "ax5.set_title('Regimen Results')\n",
    "ax5.set_ylabel('Final Tumor Vol')\n",
    "plt.xticks([1, 2, 3, 4], ['Infubinol', 'Ceftamin', 'Ramicane','Capomulin'])\n",
    "plt.show\n"
   ]
  },
  {
   "cell_type": "code",
   "execution_count": 36,
   "metadata": {},
   "outputs": [
    {
     "name": "stdout",
     "output_type": "stream",
     "text": [
      "   Mouse ID  Weight (g)  Timepoint  Tumor Volume (mm3) Drug Regimen\n",
      "10     s185          17          0           45.000000    Capomulin\n",
      "11     s185          17          5           43.878496    Capomulin\n",
      "12     s185          17         10           37.614948    Capomulin\n",
      "13     s185          17         15           38.177232    Capomulin\n",
      "14     s185          17         20           36.866876    Capomulin\n",
      "15     s185          17         25           33.949940    Capomulin\n",
      "16     s185          17         30           32.959671    Capomulin\n",
      "17     s185          17         35           28.328531    Capomulin\n",
      "18     s185          17         40           25.472143    Capomulin\n",
      "19     s185          17         45           23.343598    Capomulin\n"
     ]
    }
   ],
   "source": [
    "df8 = pd.DataFrame(data_merged, columns = ['Mouse ID', 'Weight (g)', 'Timepoint', 'Tumor Volume (mm3)', 'Drug Regimen'])\n",
    "mouse_df = df8[df8['Mouse ID'] == 's185']\n",
    "print(mouse_df)"
   ]
  },
  {
   "cell_type": "code",
   "execution_count": 38,
   "metadata": {},
   "outputs": [
    {
     "data": {
      "text/plain": [
       "[<matplotlib.lines.Line2D at 0x14a14a54948>]"
      ]
     },
     "execution_count": 38,
     "metadata": {},
     "output_type": "execute_result"
    },
    {
     "data": {
      "image/png": "[encoded data removed]",
      "text/plain": [
       "<Figure size 432x288 with 1 Axes>"
      ]
     },
     "metadata": {
      "needs_background": "light"
     },
     "output_type": "display_data"
    }
   ],
   "source": [
    "time = mouse_df['Timepoint']\n",
    "volume = mouse_df['Tumor Volume (mm3)']\n",
    "plt.title(\"Capomulin Regimen - s185\")\n",
    "plt.xlabel(\"Timepoint\")\n",
    "plt.ylabel(\"Tumor Vol)\")\n",
    "plt.plot(time, volume, color=\"blue\", label=\"Mouse-s185\")"
   ]
  },
  {
   "cell_type": "code",
   "execution_count": 39,
   "metadata": {},
   "outputs": [
    {
     "name": "stdout",
     "output_type": "stream",
     "text": [
      "     Mouse ID  Weight (g)  Timepoint  Tumor Volume (mm3) Drug Regimen\n",
      "10       s185          17          0           45.000000    Capomulin\n",
      "11       s185          17          5           43.878496    Capomulin\n",
      "12       s185          17         10           37.614948    Capomulin\n",
      "13       s185          17         15           38.177232    Capomulin\n",
      "14       s185          17         20           36.866876    Capomulin\n",
      "...       ...         ...        ...                 ...          ...\n",
      "440      i557          24         45           47.685963    Capomulin\n",
      "1452     r157          25          0           45.000000    Capomulin\n",
      "1453     r157          25          5           45.597064    Capomulin\n",
      "1454     r157          25         10           46.059608    Capomulin\n",
      "1455     r157          25         15           46.539206    Capomulin\n",
      "\n",
      "[230 rows x 5 columns]\n"
     ]
    }
   ],
   "source": [
    "df7 = pd.DataFrame(data_merged, columns = ['Mouse ID', 'Weight (g)', 'Timepoint', 'Tumor Volume (mm3)', 'Drug Regimen'])\n",
    "capomulin_df = df7[df7['Drug Regimen'] == 'Capomulin']\n",
    "print(capomulin_df)"
   ]
  },
  {
   "cell_type": "code",
   "execution_count": 48,
   "metadata": {},
   "outputs": [
    {
     "data": {
      "text/plain": [
       "<matplotlib.collections.PathCollection at 0x14a15013348>"
      ]
     },
     "execution_count": 48,
     "metadata": {},
     "output_type": "execute_result"
    },
    {
     "data": {
      "image/png": "[encoded data removed]",
      "text/plain": [
       "<Figure size 432x288 with 1 Axes>"
      ]
     },
     "metadata": {
      "needs_background": "light"
     },
     "output_type": "display_data"
    }
   ],
   "source": [
    "weight = capomulin_df['Weight (g)']\n",
    "tvol = capomulin_df['Tumor Volume (mm3)']\n",
    "plt.scatter(weight, tvol, marker=\"o\", facecolors=\"black\", edgecolors=\"red\")"
   ]
  },
  {
   "cell_type": "code",
   "execution_count": null,
   "metadata": {},
   "outputs": [],
   "source": []
  }
 ],
 "metadata": {
  "kernelspec": {
   "display_name": "Python [conda env:PythonData] *",
   "language": "python",
   "name": "conda-env-PythonData-py"
  },
  "language_info": {
   "codemirror_mode": {
    "name": "ipython",
    "version": 3
   },
   "file_extension": ".py",
   "mimetype": "text/x-python",
   "name": "python",
   "nbconvert_exporter": "python",
   "pygments_lexer": "ipython3",
   "version": "3.7.6"
  }
 },
 "nbformat": 4,
 "nbformat_minor": 4
}
