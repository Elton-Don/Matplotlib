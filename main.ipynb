{
 "cells": [
  {
   "cell_type": "code",
   "execution_count": 1,
   "metadata": {},
   "outputs": [],
   "source": [
    " # Dependencies and Setup\n",
    "import matplotlib.pyplot as plt\n",
    "import pandas as pd\n",
    "import numpy as np\n",
    "import scipy.stats as st"
   ]
  },
  {
   "cell_type": "code",
   "execution_count": 2,
   "metadata": {},
   "outputs": [],
   "source": [
    "# Study data files\n",
    "mouse_metadata = \"Resources/Mouse_metadata.csv\"\n",
    "study_results = \"Resources/Study_results.csv\""
   ]
  },
  {
   "cell_type": "code",
   "execution_count": 3,
   "metadata": {},
   "outputs": [],
   "source": [
    "# Read the mouse data and the study results\n",
    "mouse_metadata = pd.read_csv(mouse_metadata)\n",
    "study_results = pd.read_csv(study_results)"
   ]
  },
  {
   "cell_type": "code",
   "execution_count": 4,
   "metadata": {},
   "outputs": [
    {
     "data": {
      "text/html": [
       "<div>\n",
       "<style scoped>\n",
       "    .dataframe tbody tr th:only-of-type {\n",
       "        vertical-align: middle;\n",
       "    }\n",
       "\n",
       "    .dataframe tbody tr th {\n",
       "        vertical-align: top;\n",
       "    }\n",
       "\n",
       "    .dataframe thead th {\n",
       "        text-align: right;\n",
       "    }\n",
       "</style>\n",
       "<table border=\"1\" class=\"dataframe\">\n",
       "  <thead>\n",
       "    <tr style=\"text-align: right;\">\n",
       "      <th></th>\n",
       "      <th>Mouse ID</th>\n",
       "      <th>Timepoint</th>\n",
       "      <th>Tumor Volume (mm3)</th>\n",
       "      <th>Metastatic Sites</th>\n",
       "    </tr>\n",
       "  </thead>\n",
       "  <tbody>\n",
       "    <tr>\n",
       "      <th>0</th>\n",
       "      <td>b128</td>\n",
       "      <td>0</td>\n",
       "      <td>45.0</td>\n",
       "      <td>0</td>\n",
       "    </tr>\n",
       "    <tr>\n",
       "      <th>1</th>\n",
       "      <td>f932</td>\n",
       "      <td>0</td>\n",
       "      <td>45.0</td>\n",
       "      <td>0</td>\n",
       "    </tr>\n",
       "    <tr>\n",
       "      <th>2</th>\n",
       "      <td>g107</td>\n",
       "      <td>0</td>\n",
       "      <td>45.0</td>\n",
       "      <td>0</td>\n",
       "    </tr>\n",
       "    <tr>\n",
       "      <th>3</th>\n",
       "      <td>a457</td>\n",
       "      <td>0</td>\n",
       "      <td>45.0</td>\n",
       "      <td>0</td>\n",
       "    </tr>\n",
       "    <tr>\n",
       "      <th>4</th>\n",
       "      <td>c819</td>\n",
       "      <td>0</td>\n",
       "      <td>45.0</td>\n",
       "      <td>0</td>\n",
       "    </tr>\n",
       "  </tbody>\n",
       "</table>\n",
       "</div>"
      ],
      "text/plain": [
       "  Mouse ID  Timepoint  Tumor Volume (mm3)  Metastatic Sites\n",
       "0     b128          0                45.0                 0\n",
       "1     f932          0                45.0                 0\n",
       "2     g107          0                45.0                 0\n",
       "3     a457          0                45.0                 0\n",
       "4     c819          0                45.0                 0"
      ]
     },
     "execution_count": 4,
     "metadata": {},
     "output_type": "execute_result"
    }
   ],
   "source": [
    "study_results.head()"
   ]
  },
  {
   "cell_type": "code",
   "execution_count": 5,
   "metadata": {},
   "outputs": [
    {
     "data": {
      "text/html": [
       "<div>\n",
       "<style scoped>\n",
       "    .dataframe tbody tr th:only-of-type {\n",
       "        vertical-align: middle;\n",
       "    }\n",
       "\n",
       "    .dataframe tbody tr th {\n",
       "        vertical-align: top;\n",
       "    }\n",
       "\n",
       "    .dataframe thead th {\n",
       "        text-align: right;\n",
       "    }\n",
       "</style>\n",
       "<table border=\"1\" class=\"dataframe\">\n",
       "  <thead>\n",
       "    <tr style=\"text-align: right;\">\n",
       "      <th></th>\n",
       "      <th>Mouse ID</th>\n",
       "      <th>Drug Regimen</th>\n",
       "      <th>Sex</th>\n",
       "      <th>Age_months</th>\n",
       "      <th>Weight (g)</th>\n",
       "    </tr>\n",
       "  </thead>\n",
       "  <tbody>\n",
       "    <tr>\n",
       "      <th>0</th>\n",
       "      <td>k403</td>\n",
       "      <td>Ramicane</td>\n",
       "      <td>Male</td>\n",
       "      <td>21</td>\n",
       "      <td>16</td>\n",
       "    </tr>\n",
       "    <tr>\n",
       "      <th>1</th>\n",
       "      <td>s185</td>\n",
       "      <td>Capomulin</td>\n",
       "      <td>Female</td>\n",
       "      <td>3</td>\n",
       "      <td>17</td>\n",
       "    </tr>\n",
       "    <tr>\n",
       "      <th>2</th>\n",
       "      <td>x401</td>\n",
       "      <td>Capomulin</td>\n",
       "      <td>Female</td>\n",
       "      <td>16</td>\n",
       "      <td>15</td>\n",
       "    </tr>\n",
       "    <tr>\n",
       "      <th>3</th>\n",
       "      <td>m601</td>\n",
       "      <td>Capomulin</td>\n",
       "      <td>Male</td>\n",
       "      <td>22</td>\n",
       "      <td>17</td>\n",
       "    </tr>\n",
       "    <tr>\n",
       "      <th>4</th>\n",
       "      <td>g791</td>\n",
       "      <td>Ramicane</td>\n",
       "      <td>Male</td>\n",
       "      <td>11</td>\n",
       "      <td>16</td>\n",
       "    </tr>\n",
       "  </tbody>\n",
       "</table>\n",
       "</div>"
      ],
      "text/plain": [
       "  Mouse ID Drug Regimen     Sex  Age_months  Weight (g)\n",
       "0     k403     Ramicane    Male          21          16\n",
       "1     s185    Capomulin  Female           3          17\n",
       "2     x401    Capomulin  Female          16          15\n",
       "3     m601    Capomulin    Male          22          17\n",
       "4     g791     Ramicane    Male          11          16"
      ]
     },
     "execution_count": 5,
     "metadata": {},
     "output_type": "execute_result"
    }
   ],
   "source": [
    "mouse_metadata.head()"
   ]
  },
  {
   "cell_type": "code",
   "execution_count": 6,
   "metadata": {},
   "outputs": [
    {
     "data": {
      "text/html": [
       "<div>\n",
       "<style scoped>\n",
       "    .dataframe tbody tr th:only-of-type {\n",
       "        vertical-align: middle;\n",
       "    }\n",
       "\n",
       "    .dataframe tbody tr th {\n",
       "        vertical-align: top;\n",
       "    }\n",
       "\n",
       "    .dataframe thead th {\n",
       "        text-align: right;\n",
       "    }\n",
       "</style>\n",
       "<table border=\"1\" class=\"dataframe\">\n",
       "  <thead>\n",
       "    <tr style=\"text-align: right;\">\n",
       "      <th></th>\n",
       "      <th>Mouse ID</th>\n",
       "      <th>Timepoint</th>\n",
       "      <th>Tumor Volume (mm3)</th>\n",
       "      <th>Metastatic Sites</th>\n",
       "      <th>Drug Regimen</th>\n",
       "      <th>Sex</th>\n",
       "      <th>Age_months</th>\n",
       "      <th>Weight (g)</th>\n",
       "    </tr>\n",
       "  </thead>\n",
       "  <tbody>\n",
       "    <tr>\n",
       "      <th>0</th>\n",
       "      <td>b128</td>\n",
       "      <td>0</td>\n",
       "      <td>45.0</td>\n",
       "      <td>0</td>\n",
       "      <td>Capomulin</td>\n",
       "      <td>Female</td>\n",
       "      <td>9</td>\n",
       "      <td>22</td>\n",
       "    </tr>\n",
       "    <tr>\n",
       "      <th>1</th>\n",
       "      <td>f932</td>\n",
       "      <td>0</td>\n",
       "      <td>45.0</td>\n",
       "      <td>0</td>\n",
       "      <td>Ketapril</td>\n",
       "      <td>Male</td>\n",
       "      <td>15</td>\n",
       "      <td>29</td>\n",
       "    </tr>\n",
       "    <tr>\n",
       "      <th>2</th>\n",
       "      <td>g107</td>\n",
       "      <td>0</td>\n",
       "      <td>45.0</td>\n",
       "      <td>0</td>\n",
       "      <td>Ketapril</td>\n",
       "      <td>Female</td>\n",
       "      <td>2</td>\n",
       "      <td>29</td>\n",
       "    </tr>\n",
       "    <tr>\n",
       "      <th>3</th>\n",
       "      <td>a457</td>\n",
       "      <td>0</td>\n",
       "      <td>45.0</td>\n",
       "      <td>0</td>\n",
       "      <td>Ketapril</td>\n",
       "      <td>Female</td>\n",
       "      <td>11</td>\n",
       "      <td>30</td>\n",
       "    </tr>\n",
       "    <tr>\n",
       "      <th>4</th>\n",
       "      <td>c819</td>\n",
       "      <td>0</td>\n",
       "      <td>45.0</td>\n",
       "      <td>0</td>\n",
       "      <td>Ketapril</td>\n",
       "      <td>Male</td>\n",
       "      <td>21</td>\n",
       "      <td>25</td>\n",
       "    </tr>\n",
       "  </tbody>\n",
       "</table>\n",
       "</div>"
      ],
      "text/plain": [
       "  Mouse ID  Timepoint  Tumor Volume (mm3)  Metastatic Sites Drug Regimen  \\\n",
       "0     b128          0                45.0                 0    Capomulin   \n",
       "1     f932          0                45.0                 0     Ketapril   \n",
       "2     g107          0                45.0                 0     Ketapril   \n",
       "3     a457          0                45.0                 0     Ketapril   \n",
       "4     c819          0                45.0                 0     Ketapril   \n",
       "\n",
       "      Sex  Age_months  Weight (g)  \n",
       "0  Female           9          22  \n",
       "1    Male          15          29  \n",
       "2  Female           2          29  \n",
       "3  Female          11          30  \n",
       "4    Male          21          25  "
      ]
     },
     "execution_count": 6,
     "metadata": {},
     "output_type": "execute_result"
    }
   ],
   "source": [
    "data_merged = pd.merge(study_results, mouse_metadata, how=\"left\", on=[\"Mouse ID\", \"Mouse ID\"])\n",
    "data_merged.head()"
   ]
  },
  {
   "cell_type": "code",
   "execution_count": 7,
   "metadata": {},
   "outputs": [
    {
     "name": "stdout",
     "output_type": "stream",
     "text": [
      "48.95147442\n",
      "50.448380631336505\n",
      "79.07427999025809\n",
      "8.892372011463426\n"
     ]
    }
   ],
   "source": [
    "#Generate a summary statistics table of mean, median, variance, standard deviation, and SEM of the tumor volume for each Regimen\n",
    "tumor_vol = data_merged['Tumor Volume (mm3)']\n",
    "tumor_mean = np.mean(tumor_vol)\n",
    "tumor_median = np.median(tumor_vol)\n",
    "tumor_var = np.var(tumor_vol, ddof =0)\n",
    "tumor_stdev = np.std(tumor_vol, ddof =0)\n",
    "#tumor_SEM = np.SEM(tumor_vol, ddof =0)\n",
    "print(tumor_median)\n",
    "print(tumor_mean)\n",
    "print(tumor_var)\n",
    "print(tumor_stdev)\n",
    "#print(tumor_SEM)"
   ]
  },
  {
   "cell_type": "code",
   "execution_count": 8,
   "metadata": {},
   "outputs": [
    {
     "data": {
      "text/plain": [
       "48.95147442"
      ]
     },
     "execution_count": 8,
     "metadata": {},
     "output_type": "execute_result"
    }
   ],
   "source": [
    "tumor_median = np.median(tumor_vol)\n",
    "tumor_median"
   ]
  },
  {
   "cell_type": "code",
   "execution_count": 9,
   "metadata": {},
   "outputs": [
    {
     "data": {
      "text/plain": [
       "50.448380631336505"
      ]
     },
     "execution_count": 9,
     "metadata": {},
     "output_type": "execute_result"
    }
   ],
   "source": [
    "tumor_mean"
   ]
  },
  {
   "cell_type": "code",
   "execution_count": 10,
   "metadata": {},
   "outputs": [
    {
     "data": {
      "text/html": [
       "<div>\n",
       "<style scoped>\n",
       "    .dataframe tbody tr th:only-of-type {\n",
       "        vertical-align: middle;\n",
       "    }\n",
       "\n",
       "    .dataframe tbody tr th {\n",
       "        vertical-align: top;\n",
       "    }\n",
       "\n",
       "    .dataframe thead th {\n",
       "        text-align: right;\n",
       "    }\n",
       "</style>\n",
       "<table border=\"1\" class=\"dataframe\">\n",
       "  <thead>\n",
       "    <tr style=\"text-align: right;\">\n",
       "      <th></th>\n",
       "      <th>Mouse ID</th>\n",
       "      <th>Timepoint</th>\n",
       "      <th>Tumor Volume (mm3)</th>\n",
       "      <th>Metastatic Sites</th>\n",
       "      <th>Drug Regimen</th>\n",
       "      <th>Sex</th>\n",
       "      <th>Age_months</th>\n",
       "      <th>Weight (g)</th>\n",
       "    </tr>\n",
       "  </thead>\n",
       "  <tbody>\n",
       "    <tr>\n",
       "      <th>0</th>\n",
       "      <td>b128</td>\n",
       "      <td>0</td>\n",
       "      <td>45.0</td>\n",
       "      <td>0</td>\n",
       "      <td>Capomulin</td>\n",
       "      <td>Female</td>\n",
       "      <td>9</td>\n",
       "      <td>22</td>\n",
       "    </tr>\n",
       "    <tr>\n",
       "      <th>1</th>\n",
       "      <td>f932</td>\n",
       "      <td>0</td>\n",
       "      <td>45.0</td>\n",
       "      <td>0</td>\n",
       "      <td>Ketapril</td>\n",
       "      <td>Male</td>\n",
       "      <td>15</td>\n",
       "      <td>29</td>\n",
       "    </tr>\n",
       "    <tr>\n",
       "      <th>2</th>\n",
       "      <td>g107</td>\n",
       "      <td>0</td>\n",
       "      <td>45.0</td>\n",
       "      <td>0</td>\n",
       "      <td>Ketapril</td>\n",
       "      <td>Female</td>\n",
       "      <td>2</td>\n",
       "      <td>29</td>\n",
       "    </tr>\n",
       "    <tr>\n",
       "      <th>3</th>\n",
       "      <td>a457</td>\n",
       "      <td>0</td>\n",
       "      <td>45.0</td>\n",
       "      <td>0</td>\n",
       "      <td>Ketapril</td>\n",
       "      <td>Female</td>\n",
       "      <td>11</td>\n",
       "      <td>30</td>\n",
       "    </tr>\n",
       "    <tr>\n",
       "      <th>4</th>\n",
       "      <td>c819</td>\n",
       "      <td>0</td>\n",
       "      <td>45.0</td>\n",
       "      <td>0</td>\n",
       "      <td>Ketapril</td>\n",
       "      <td>Male</td>\n",
       "      <td>21</td>\n",
       "      <td>25</td>\n",
       "    </tr>\n",
       "    <tr>\n",
       "      <th>5</th>\n",
       "      <td>h246</td>\n",
       "      <td>0</td>\n",
       "      <td>45.0</td>\n",
       "      <td>0</td>\n",
       "      <td>Ketapril</td>\n",
       "      <td>Male</td>\n",
       "      <td>13</td>\n",
       "      <td>30</td>\n",
       "    </tr>\n",
       "    <tr>\n",
       "      <th>9</th>\n",
       "      <td>f993</td>\n",
       "      <td>0</td>\n",
       "      <td>45.0</td>\n",
       "      <td>0</td>\n",
       "      <td>Naftisol</td>\n",
       "      <td>Male</td>\n",
       "      <td>21</td>\n",
       "      <td>28</td>\n",
       "    </tr>\n",
       "    <tr>\n",
       "      <th>10</th>\n",
       "      <td>z234</td>\n",
       "      <td>0</td>\n",
       "      <td>45.0</td>\n",
       "      <td>0</td>\n",
       "      <td>Naftisol</td>\n",
       "      <td>Female</td>\n",
       "      <td>19</td>\n",
       "      <td>27</td>\n",
       "    </tr>\n",
       "    <tr>\n",
       "      <th>11</th>\n",
       "      <td>b559</td>\n",
       "      <td>0</td>\n",
       "      <td>45.0</td>\n",
       "      <td>0</td>\n",
       "      <td>Naftisol</td>\n",
       "      <td>Male</td>\n",
       "      <td>20</td>\n",
       "      <td>26</td>\n",
       "    </tr>\n",
       "    <tr>\n",
       "      <th>13</th>\n",
       "      <td>x930</td>\n",
       "      <td>0</td>\n",
       "      <td>45.0</td>\n",
       "      <td>0</td>\n",
       "      <td>Naftisol</td>\n",
       "      <td>Male</td>\n",
       "      <td>13</td>\n",
       "      <td>26</td>\n",
       "    </tr>\n",
       "    <tr>\n",
       "      <th>14</th>\n",
       "      <td>o725</td>\n",
       "      <td>0</td>\n",
       "      <td>45.0</td>\n",
       "      <td>0</td>\n",
       "      <td>Naftisol</td>\n",
       "      <td>Male</td>\n",
       "      <td>4</td>\n",
       "      <td>26</td>\n",
       "    </tr>\n",
       "    <tr>\n",
       "      <th>29</th>\n",
       "      <td>c326</td>\n",
       "      <td>0</td>\n",
       "      <td>45.0</td>\n",
       "      <td>0</td>\n",
       "      <td>Infubinol</td>\n",
       "      <td>Female</td>\n",
       "      <td>18</td>\n",
       "      <td>25</td>\n",
       "    </tr>\n",
       "    <tr>\n",
       "      <th>30</th>\n",
       "      <td>c139</td>\n",
       "      <td>0</td>\n",
       "      <td>45.0</td>\n",
       "      <td>0</td>\n",
       "      <td>Infubinol</td>\n",
       "      <td>Male</td>\n",
       "      <td>11</td>\n",
       "      <td>28</td>\n",
       "    </tr>\n",
       "    <tr>\n",
       "      <th>31</th>\n",
       "      <td>v339</td>\n",
       "      <td>0</td>\n",
       "      <td>45.0</td>\n",
       "      <td>0</td>\n",
       "      <td>Infubinol</td>\n",
       "      <td>Male</td>\n",
       "      <td>20</td>\n",
       "      <td>26</td>\n",
       "    </tr>\n",
       "    <tr>\n",
       "      <th>32</th>\n",
       "      <td>a577</td>\n",
       "      <td>0</td>\n",
       "      <td>45.0</td>\n",
       "      <td>0</td>\n",
       "      <td>Infubinol</td>\n",
       "      <td>Female</td>\n",
       "      <td>6</td>\n",
       "      <td>25</td>\n",
       "    </tr>\n",
       "    <tr>\n",
       "      <th>33</th>\n",
       "      <td>y163</td>\n",
       "      <td>0</td>\n",
       "      <td>45.0</td>\n",
       "      <td>0</td>\n",
       "      <td>Infubinol</td>\n",
       "      <td>Female</td>\n",
       "      <td>17</td>\n",
       "      <td>27</td>\n",
       "    </tr>\n",
       "    <tr>\n",
       "      <th>57</th>\n",
       "      <td>f234</td>\n",
       "      <td>0</td>\n",
       "      <td>45.0</td>\n",
       "      <td>0</td>\n",
       "      <td>Stelasyn</td>\n",
       "      <td>Male</td>\n",
       "      <td>14</td>\n",
       "      <td>28</td>\n",
       "    </tr>\n",
       "    <tr>\n",
       "      <th>58</th>\n",
       "      <td>c458</td>\n",
       "      <td>0</td>\n",
       "      <td>45.0</td>\n",
       "      <td>0</td>\n",
       "      <td>Ramicane</td>\n",
       "      <td>Female</td>\n",
       "      <td>23</td>\n",
       "      <td>20</td>\n",
       "    </tr>\n",
       "    <tr>\n",
       "      <th>59</th>\n",
       "      <td>q610</td>\n",
       "      <td>0</td>\n",
       "      <td>45.0</td>\n",
       "      <td>0</td>\n",
       "      <td>Ramicane</td>\n",
       "      <td>Female</td>\n",
       "      <td>18</td>\n",
       "      <td>21</td>\n",
       "    </tr>\n",
       "    <tr>\n",
       "      <th>60</th>\n",
       "      <td>j913</td>\n",
       "      <td>0</td>\n",
       "      <td>45.0</td>\n",
       "      <td>0</td>\n",
       "      <td>Ramicane</td>\n",
       "      <td>Female</td>\n",
       "      <td>4</td>\n",
       "      <td>17</td>\n",
       "    </tr>\n",
       "    <tr>\n",
       "      <th>61</th>\n",
       "      <td>a411</td>\n",
       "      <td>0</td>\n",
       "      <td>45.0</td>\n",
       "      <td>0</td>\n",
       "      <td>Ramicane</td>\n",
       "      <td>Male</td>\n",
       "      <td>3</td>\n",
       "      <td>22</td>\n",
       "    </tr>\n",
       "    <tr>\n",
       "      <th>62</th>\n",
       "      <td>a444</td>\n",
       "      <td>0</td>\n",
       "      <td>45.0</td>\n",
       "      <td>0</td>\n",
       "      <td>Ramicane</td>\n",
       "      <td>Female</td>\n",
       "      <td>10</td>\n",
       "      <td>25</td>\n",
       "    </tr>\n",
       "    <tr>\n",
       "      <th>68</th>\n",
       "      <td>x402</td>\n",
       "      <td>0</td>\n",
       "      <td>45.0</td>\n",
       "      <td>0</td>\n",
       "      <td>Stelasyn</td>\n",
       "      <td>Male</td>\n",
       "      <td>21</td>\n",
       "      <td>28</td>\n",
       "    </tr>\n",
       "    <tr>\n",
       "      <th>82</th>\n",
       "      <td>a492</td>\n",
       "      <td>0</td>\n",
       "      <td>45.0</td>\n",
       "      <td>0</td>\n",
       "      <td>Stelasyn</td>\n",
       "      <td>Male</td>\n",
       "      <td>20</td>\n",
       "      <td>25</td>\n",
       "    </tr>\n",
       "    <tr>\n",
       "      <th>83</th>\n",
       "      <td>w540</td>\n",
       "      <td>0</td>\n",
       "      <td>45.0</td>\n",
       "      <td>0</td>\n",
       "      <td>Stelasyn</td>\n",
       "      <td>Female</td>\n",
       "      <td>8</td>\n",
       "      <td>26</td>\n",
       "    </tr>\n",
       "    <tr>\n",
       "      <th>84</th>\n",
       "      <td>v764</td>\n",
       "      <td>0</td>\n",
       "      <td>45.0</td>\n",
       "      <td>0</td>\n",
       "      <td>Stelasyn</td>\n",
       "      <td>Female</td>\n",
       "      <td>5</td>\n",
       "      <td>30</td>\n",
       "    </tr>\n",
       "    <tr>\n",
       "      <th>107</th>\n",
       "      <td>g989</td>\n",
       "      <td>0</td>\n",
       "      <td>45.0</td>\n",
       "      <td>0</td>\n",
       "      <td>Propriva</td>\n",
       "      <td>Female</td>\n",
       "      <td>21</td>\n",
       "      <td>26</td>\n",
       "    </tr>\n",
       "    <tr>\n",
       "      <th>114</th>\n",
       "      <td>f394</td>\n",
       "      <td>0</td>\n",
       "      <td>45.0</td>\n",
       "      <td>0</td>\n",
       "      <td>Zoniferol</td>\n",
       "      <td>Male</td>\n",
       "      <td>19</td>\n",
       "      <td>30</td>\n",
       "    </tr>\n",
       "    <tr>\n",
       "      <th>115</th>\n",
       "      <td>c264</td>\n",
       "      <td>0</td>\n",
       "      <td>45.0</td>\n",
       "      <td>0</td>\n",
       "      <td>Zoniferol</td>\n",
       "      <td>Female</td>\n",
       "      <td>11</td>\n",
       "      <td>27</td>\n",
       "    </tr>\n",
       "    <tr>\n",
       "      <th>116</th>\n",
       "      <td>n967</td>\n",
       "      <td>0</td>\n",
       "      <td>45.0</td>\n",
       "      <td>0</td>\n",
       "      <td>Zoniferol</td>\n",
       "      <td>Male</td>\n",
       "      <td>11</td>\n",
       "      <td>27</td>\n",
       "    </tr>\n",
       "    <tr>\n",
       "      <th>117</th>\n",
       "      <td>f545</td>\n",
       "      <td>0</td>\n",
       "      <td>45.0</td>\n",
       "      <td>0</td>\n",
       "      <td>Zoniferol</td>\n",
       "      <td>Female</td>\n",
       "      <td>20</td>\n",
       "      <td>26</td>\n",
       "    </tr>\n",
       "    <tr>\n",
       "      <th>118</th>\n",
       "      <td>k894</td>\n",
       "      <td>0</td>\n",
       "      <td>45.0</td>\n",
       "      <td>0</td>\n",
       "      <td>Zoniferol</td>\n",
       "      <td>Female</td>\n",
       "      <td>13</td>\n",
       "      <td>29</td>\n",
       "    </tr>\n",
       "    <tr>\n",
       "      <th>136</th>\n",
       "      <td>n630</td>\n",
       "      <td>0</td>\n",
       "      <td>45.0</td>\n",
       "      <td>0</td>\n",
       "      <td>Propriva</td>\n",
       "      <td>Female</td>\n",
       "      <td>15</td>\n",
       "      <td>29</td>\n",
       "    </tr>\n",
       "    <tr>\n",
       "      <th>137</th>\n",
       "      <td>g989</td>\n",
       "      <td>0</td>\n",
       "      <td>45.0</td>\n",
       "      <td>0</td>\n",
       "      <td>Propriva</td>\n",
       "      <td>Female</td>\n",
       "      <td>21</td>\n",
       "      <td>26</td>\n",
       "    </tr>\n",
       "    <tr>\n",
       "      <th>139</th>\n",
       "      <td>w350</td>\n",
       "      <td>0</td>\n",
       "      <td>45.0</td>\n",
       "      <td>0</td>\n",
       "      <td>Propriva</td>\n",
       "      <td>Male</td>\n",
       "      <td>7</td>\n",
       "      <td>26</td>\n",
       "    </tr>\n",
       "    <tr>\n",
       "      <th>141</th>\n",
       "      <td>a897</td>\n",
       "      <td>0</td>\n",
       "      <td>45.0</td>\n",
       "      <td>0</td>\n",
       "      <td>Placebo</td>\n",
       "      <td>Male</td>\n",
       "      <td>7</td>\n",
       "      <td>28</td>\n",
       "    </tr>\n",
       "    <tr>\n",
       "      <th>142</th>\n",
       "      <td>j235</td>\n",
       "      <td>0</td>\n",
       "      <td>45.0</td>\n",
       "      <td>0</td>\n",
       "      <td>Placebo</td>\n",
       "      <td>Male</td>\n",
       "      <td>6</td>\n",
       "      <td>30</td>\n",
       "    </tr>\n",
       "    <tr>\n",
       "      <th>143</th>\n",
       "      <td>q787</td>\n",
       "      <td>0</td>\n",
       "      <td>45.0</td>\n",
       "      <td>0</td>\n",
       "      <td>Placebo</td>\n",
       "      <td>Male</td>\n",
       "      <td>17</td>\n",
       "      <td>27</td>\n",
       "    </tr>\n",
       "    <tr>\n",
       "      <th>144</th>\n",
       "      <td>a262</td>\n",
       "      <td>0</td>\n",
       "      <td>45.0</td>\n",
       "      <td>0</td>\n",
       "      <td>Placebo</td>\n",
       "      <td>Female</td>\n",
       "      <td>17</td>\n",
       "      <td>29</td>\n",
       "    </tr>\n",
       "    <tr>\n",
       "      <th>145</th>\n",
       "      <td>r850</td>\n",
       "      <td>0</td>\n",
       "      <td>45.0</td>\n",
       "      <td>0</td>\n",
       "      <td>Placebo</td>\n",
       "      <td>Male</td>\n",
       "      <td>5</td>\n",
       "      <td>30</td>\n",
       "    </tr>\n",
       "    <tr>\n",
       "      <th>167</th>\n",
       "      <td>p310</td>\n",
       "      <td>0</td>\n",
       "      <td>45.0</td>\n",
       "      <td>0</td>\n",
       "      <td>Propriva</td>\n",
       "      <td>Male</td>\n",
       "      <td>6</td>\n",
       "      <td>26</td>\n",
       "    </tr>\n",
       "    <tr>\n",
       "      <th>170</th>\n",
       "      <td>x822</td>\n",
       "      <td>0</td>\n",
       "      <td>45.0</td>\n",
       "      <td>0</td>\n",
       "      <td>Ceftamin</td>\n",
       "      <td>Male</td>\n",
       "      <td>3</td>\n",
       "      <td>29</td>\n",
       "    </tr>\n",
       "    <tr>\n",
       "      <th>171</th>\n",
       "      <td>l558</td>\n",
       "      <td>0</td>\n",
       "      <td>45.0</td>\n",
       "      <td>0</td>\n",
       "      <td>Ceftamin</td>\n",
       "      <td>Female</td>\n",
       "      <td>13</td>\n",
       "      <td>30</td>\n",
       "    </tr>\n",
       "    <tr>\n",
       "      <th>172</th>\n",
       "      <td>l733</td>\n",
       "      <td>0</td>\n",
       "      <td>45.0</td>\n",
       "      <td>0</td>\n",
       "      <td>Ceftamin</td>\n",
       "      <td>Female</td>\n",
       "      <td>4</td>\n",
       "      <td>30</td>\n",
       "    </tr>\n",
       "    <tr>\n",
       "      <th>173</th>\n",
       "      <td>f436</td>\n",
       "      <td>0</td>\n",
       "      <td>45.0</td>\n",
       "      <td>0</td>\n",
       "      <td>Ceftamin</td>\n",
       "      <td>Female</td>\n",
       "      <td>3</td>\n",
       "      <td>25</td>\n",
       "    </tr>\n",
       "    <tr>\n",
       "      <th>174</th>\n",
       "      <td>l490</td>\n",
       "      <td>0</td>\n",
       "      <td>45.0</td>\n",
       "      <td>0</td>\n",
       "      <td>Ceftamin</td>\n",
       "      <td>Male</td>\n",
       "      <td>24</td>\n",
       "      <td>26</td>\n",
       "    </tr>\n",
       "    <tr>\n",
       "      <th>226</th>\n",
       "      <td>j246</td>\n",
       "      <td>0</td>\n",
       "      <td>45.0</td>\n",
       "      <td>0</td>\n",
       "      <td>Capomulin</td>\n",
       "      <td>Female</td>\n",
       "      <td>21</td>\n",
       "      <td>21</td>\n",
       "    </tr>\n",
       "    <tr>\n",
       "      <th>227</th>\n",
       "      <td>r554</td>\n",
       "      <td>0</td>\n",
       "      <td>45.0</td>\n",
       "      <td>0</td>\n",
       "      <td>Capomulin</td>\n",
       "      <td>Female</td>\n",
       "      <td>8</td>\n",
       "      <td>17</td>\n",
       "    </tr>\n",
       "    <tr>\n",
       "      <th>228</th>\n",
       "      <td>s185</td>\n",
       "      <td>0</td>\n",
       "      <td>45.0</td>\n",
       "      <td>0</td>\n",
       "      <td>Capomulin</td>\n",
       "      <td>Female</td>\n",
       "      <td>3</td>\n",
       "      <td>17</td>\n",
       "    </tr>\n",
       "    <tr>\n",
       "      <th>229</th>\n",
       "      <td>b742</td>\n",
       "      <td>0</td>\n",
       "      <td>45.0</td>\n",
       "      <td>0</td>\n",
       "      <td>Capomulin</td>\n",
       "      <td>Male</td>\n",
       "      <td>7</td>\n",
       "      <td>21</td>\n",
       "    </tr>\n",
       "  </tbody>\n",
       "</table>\n",
       "</div>"
      ],
      "text/plain": [
       "    Mouse ID  Timepoint  Tumor Volume (mm3)  Metastatic Sites Drug Regimen  \\\n",
       "0       b128          0                45.0                 0    Capomulin   \n",
       "1       f932          0                45.0                 0     Ketapril   \n",
       "2       g107          0                45.0                 0     Ketapril   \n",
       "3       a457          0                45.0                 0     Ketapril   \n",
       "4       c819          0                45.0                 0     Ketapril   \n",
       "5       h246          0                45.0                 0     Ketapril   \n",
       "9       f993          0                45.0                 0     Naftisol   \n",
       "10      z234          0                45.0                 0     Naftisol   \n",
       "11      b559          0                45.0                 0     Naftisol   \n",
       "13      x930          0                45.0                 0     Naftisol   \n",
       "14      o725          0                45.0                 0     Naftisol   \n",
       "29      c326          0                45.0                 0    Infubinol   \n",
       "30      c139          0                45.0                 0    Infubinol   \n",
       "31      v339          0                45.0                 0    Infubinol   \n",
       "32      a577          0                45.0                 0    Infubinol   \n",
       "33      y163          0                45.0                 0    Infubinol   \n",
       "57      f234          0                45.0                 0     Stelasyn   \n",
       "58      c458          0                45.0                 0     Ramicane   \n",
       "59      q610          0                45.0                 0     Ramicane   \n",
       "60      j913          0                45.0                 0     Ramicane   \n",
       "61      a411          0                45.0                 0     Ramicane   \n",
       "62      a444          0                45.0                 0     Ramicane   \n",
       "68      x402          0                45.0                 0     Stelasyn   \n",
       "82      a492          0                45.0                 0     Stelasyn   \n",
       "83      w540          0                45.0                 0     Stelasyn   \n",
       "84      v764          0                45.0                 0     Stelasyn   \n",
       "107     g989          0                45.0                 0     Propriva   \n",
       "114     f394          0                45.0                 0    Zoniferol   \n",
       "115     c264          0                45.0                 0    Zoniferol   \n",
       "116     n967          0                45.0                 0    Zoniferol   \n",
       "117     f545          0                45.0                 0    Zoniferol   \n",
       "118     k894          0                45.0                 0    Zoniferol   \n",
       "136     n630          0                45.0                 0     Propriva   \n",
       "137     g989          0                45.0                 0     Propriva   \n",
       "139     w350          0                45.0                 0     Propriva   \n",
       "141     a897          0                45.0                 0      Placebo   \n",
       "142     j235          0                45.0                 0      Placebo   \n",
       "143     q787          0                45.0                 0      Placebo   \n",
       "144     a262          0                45.0                 0      Placebo   \n",
       "145     r850          0                45.0                 0      Placebo   \n",
       "167     p310          0                45.0                 0     Propriva   \n",
       "170     x822          0                45.0                 0     Ceftamin   \n",
       "171     l558          0                45.0                 0     Ceftamin   \n",
       "172     l733          0                45.0                 0     Ceftamin   \n",
       "173     f436          0                45.0                 0     Ceftamin   \n",
       "174     l490          0                45.0                 0     Ceftamin   \n",
       "226     j246          0                45.0                 0    Capomulin   \n",
       "227     r554          0                45.0                 0    Capomulin   \n",
       "228     s185          0                45.0                 0    Capomulin   \n",
       "229     b742          0                45.0                 0    Capomulin   \n",
       "\n",
       "        Sex  Age_months  Weight (g)  \n",
       "0    Female           9          22  \n",
       "1      Male          15          29  \n",
       "2    Female           2          29  \n",
       "3    Female          11          30  \n",
       "4      Male          21          25  \n",
       "5      Male          13          30  \n",
       "9      Male          21          28  \n",
       "10   Female          19          27  \n",
       "11     Male          20          26  \n",
       "13     Male          13          26  \n",
       "14     Male           4          26  \n",
       "29   Female          18          25  \n",
       "30     Male          11          28  \n",
       "31     Male          20          26  \n",
       "32   Female           6          25  \n",
       "33   Female          17          27  \n",
       "57     Male          14          28  \n",
       "58   Female          23          20  \n",
       "59   Female          18          21  \n",
       "60   Female           4          17  \n",
       "61     Male           3          22  \n",
       "62   Female          10          25  \n",
       "68     Male          21          28  \n",
       "82     Male          20          25  \n",
       "83   Female           8          26  \n",
       "84   Female           5          30  \n",
       "107  Female          21          26  \n",
       "114    Male          19          30  \n",
       "115  Female          11          27  \n",
       "116    Male          11          27  \n",
       "117  Female          20          26  \n",
       "118  Female          13          29  \n",
       "136  Female          15          29  \n",
       "137  Female          21          26  \n",
       "139    Male           7          26  \n",
       "141    Male           7          28  \n",
       "142    Male           6          30  \n",
       "143    Male          17          27  \n",
       "144  Female          17          29  \n",
       "145    Male           5          30  \n",
       "167    Male           6          26  \n",
       "170    Male           3          29  \n",
       "171  Female          13          30  \n",
       "172  Female           4          30  \n",
       "173  Female           3          25  \n",
       "174    Male          24          26  \n",
       "226  Female          21          21  \n",
       "227  Female           8          17  \n",
       "228  Female           3          17  \n",
       "229    Male           7          21  "
      ]
     },
     "execution_count": 10,
     "metadata": {},
     "output_type": "execute_result"
    }
   ],
   "source": [
    "drug_regimen_group = data_merged.groupby(\"Drug Regimen\")\n",
    "drug_regimen_group.head()"
   ]
  },
  {
   "cell_type": "code",
   "execution_count": 11,
   "metadata": {},
   "outputs": [],
   "source": [
    "tumor_vol = drug_regimen_group['Tumor Volume (mm3)']\n",
    "tumor_mean = (drug_regimen_group['Tumor Volume (mm3)'].mean())\n",
    "#tumor_mean = np.mean(tumor_vol)\n",
    "tumor_median = (drug_regimen_group['Tumor Volume (mm3)'].median())\n",
    "tumor_var = (drug_regimen_group['Tumor Volume (mm3)'].var())\n",
    "tumor_stdev = (drug_regimen_group['Tumor Volume (mm3)'].std())\n",
    "tumor_sem = (drug_regimen_group['Tumor Volume (mm3)'].sem())\n",
    "regimen_count = drug_regimen_group['Drug Regimen'].count()\n"
   ]
  },
  {
   "cell_type": "code",
   "execution_count": 12,
   "metadata": {},
   "outputs": [
    {
     "data": {
      "text/html": [
       "<div>\n",
       "<style scoped>\n",
       "    .dataframe tbody tr th:only-of-type {\n",
       "        vertical-align: middle;\n",
       "    }\n",
       "\n",
       "    .dataframe tbody tr th {\n",
       "        vertical-align: top;\n",
       "    }\n",
       "\n",
       "    .dataframe thead th {\n",
       "        text-align: right;\n",
       "    }\n",
       "</style>\n",
       "<table border=\"1\" class=\"dataframe\">\n",
       "  <thead>\n",
       "    <tr style=\"text-align: right;\">\n",
       "      <th></th>\n",
       "      <th>Tumor Vol_mean</th>\n",
       "      <th>Tumor Vol_median</th>\n",
       "      <th>Tumor Vol_var</th>\n",
       "      <th>Tumor Vol_std dev</th>\n",
       "      <th>Tumor Vol_SEM</th>\n",
       "      <th>Regimen Count</th>\n",
       "    </tr>\n",
       "    <tr>\n",
       "      <th>Drug Regimen</th>\n",
       "      <th></th>\n",
       "      <th></th>\n",
       "      <th></th>\n",
       "      <th></th>\n",
       "      <th></th>\n",
       "      <th></th>\n",
       "    </tr>\n",
       "  </thead>\n",
       "  <tbody>\n",
       "    <tr>\n",
       "      <th>Capomulin</th>\n",
       "      <td>40.675741</td>\n",
       "      <td>41.557809</td>\n",
       "      <td>24.947764</td>\n",
       "      <td>4.994774</td>\n",
       "      <td>0.329346</td>\n",
       "      <td>230</td>\n",
       "    </tr>\n",
       "    <tr>\n",
       "      <th>Ceftamin</th>\n",
       "      <td>52.591172</td>\n",
       "      <td>51.776157</td>\n",
       "      <td>39.290177</td>\n",
       "      <td>6.268188</td>\n",
       "      <td>0.469821</td>\n",
       "      <td>178</td>\n",
       "    </tr>\n",
       "    <tr>\n",
       "      <th>Infubinol</th>\n",
       "      <td>52.884795</td>\n",
       "      <td>51.820584</td>\n",
       "      <td>43.128684</td>\n",
       "      <td>6.567243</td>\n",
       "      <td>0.492236</td>\n",
       "      <td>178</td>\n",
       "    </tr>\n",
       "    <tr>\n",
       "      <th>Ketapril</th>\n",
       "      <td>55.235638</td>\n",
       "      <td>53.698743</td>\n",
       "      <td>68.553577</td>\n",
       "      <td>8.279709</td>\n",
       "      <td>0.603860</td>\n",
       "      <td>188</td>\n",
       "    </tr>\n",
       "    <tr>\n",
       "      <th>Naftisol</th>\n",
       "      <td>54.331565</td>\n",
       "      <td>52.509285</td>\n",
       "      <td>66.173479</td>\n",
       "      <td>8.134708</td>\n",
       "      <td>0.596466</td>\n",
       "      <td>186</td>\n",
       "    </tr>\n",
       "  </tbody>\n",
       "</table>\n",
       "</div>"
      ],
      "text/plain": [
       "              Tumor Vol_mean  Tumor Vol_median  Tumor Vol_var  \\\n",
       "Drug Regimen                                                    \n",
       "Capomulin          40.675741         41.557809      24.947764   \n",
       "Ceftamin           52.591172         51.776157      39.290177   \n",
       "Infubinol          52.884795         51.820584      43.128684   \n",
       "Ketapril           55.235638         53.698743      68.553577   \n",
       "Naftisol           54.331565         52.509285      66.173479   \n",
       "\n",
       "              Tumor Vol_std dev  Tumor Vol_SEM  Regimen Count  \n",
       "Drug Regimen                                                   \n",
       "Capomulin              4.994774       0.329346            230  \n",
       "Ceftamin               6.268188       0.469821            178  \n",
       "Infubinol              6.567243       0.492236            178  \n",
       "Ketapril               8.279709       0.603860            188  \n",
       "Naftisol               8.134708       0.596466            186  "
      ]
     },
     "execution_count": 12,
     "metadata": {},
     "output_type": "execute_result"
    }
   ],
   "source": [
    "drug_regimen_sum = pd.DataFrame(\n",
    "            {\"Tumor Vol_mean\" : tumor_mean,\n",
    "             \"Tumor Vol_median\" : tumor_median,\n",
    "             \"Tumor Vol_var\" : tumor_var,\n",
    "             \"Tumor Vol_std dev\" : tumor_stdev,\n",
    "             \"Tumor Vol_SEM\" : tumor_sem,\n",
    "             \"Regimen Count\": regimen_count}\n",
    ")\n",
    "drug_regimen_sum.head()"
   ]
  },
  {
   "cell_type": "code",
   "execution_count": 13,
   "metadata": {},
   "outputs": [
    {
     "name": "stdout",
     "output_type": "stream",
     "text": [
      "              Tumor Vol_mean  Tumor Vol_median  Tumor Vol_var  \\\n",
      "Drug Regimen                                                    \n",
      "Capomulin          40.675741         41.557809      24.947764   \n",
      "Ceftamin           52.591172         51.776157      39.290177   \n",
      "Infubinol          52.884795         51.820584      43.128684   \n",
      "Ketapril           55.235638         53.698743      68.553577   \n",
      "Naftisol           54.331565         52.509285      66.173479   \n",
      "Placebo            54.033581         52.288934      61.168083   \n",
      "Propriva           52.322552         50.854632      42.351070   \n",
      "Ramicane           40.216745         40.673236      23.486704   \n",
      "Stelasyn           54.233149         52.431737      59.450562   \n",
      "Zoniferol          53.236507         51.818479      48.533355   \n",
      "\n",
      "              Tumor Vol_std dev  Tumor Vol_SEM  Regimen Count  \n",
      "Drug Regimen                                                   \n",
      "Capomulin              4.994774       0.329346            230  \n",
      "Ceftamin               6.268188       0.469821            178  \n",
      "Infubinol              6.567243       0.492236            178  \n",
      "Ketapril               8.279709       0.603860            188  \n",
      "Naftisol               8.134708       0.596466            186  \n",
      "Placebo                7.821003       0.581331            181  \n",
      "Propriva               6.507770       0.512884            161  \n",
      "Ramicane               4.846308       0.320955            228  \n",
      "Stelasyn               7.710419       0.573111            181  \n",
      "Zoniferol              6.966589       0.516398            182  \n"
     ]
    }
   ],
   "source": [
    "print(drug_regimen_sum)"
   ]
  },
  {
   "cell_type": "code",
   "execution_count": 14,
   "metadata": {},
   "outputs": [
    {
     "data": {
      "text/plain": [
       "([<matplotlib.axis.XTick at 0x264f95b58c8>,\n",
       "  <matplotlib.axis.XTick at 0x264f757de88>,\n",
       "  <matplotlib.axis.XTick at 0x264f757d548>,\n",
       "  <matplotlib.axis.XTick at 0x264f960da88>,\n",
       "  <matplotlib.axis.XTick at 0x264f9617448>,\n",
       "  <matplotlib.axis.XTick at 0x264f9617cc8>,\n",
       "  <matplotlib.axis.XTick at 0x264f9618688>,\n",
       "  <matplotlib.axis.XTick at 0x264f9618c48>,\n",
       "  <matplotlib.axis.XTick at 0x264f9620288>,\n",
       "  <matplotlib.axis.XTick at 0x264f9620c48>],\n",
       " <a list of 10 Text xticklabel objects>)"
      ]
     },
     "execution_count": 14,
     "metadata": {},
     "output_type": "execute_result"
    },
    {
     "data": {
      "image/png": "[encoded data removed]",
      "text/plain": [
       "<Figure size 432x288 with 1 Axes>"
      ]
     },
     "metadata": {
      "needs_background": "light"
     },
     "output_type": "display_data"
    }
   ],
   "source": [
    "x_axis = np.arange(len(drug_regimen_sum))\n",
    "xticks =[\"Capomulin\", \"Ceftamin\", \"Infubinol\", \"Ketapril\", \"Naftisol\", \"Placebo\", \"Propriva\", \"Ramicane\", \"Stelasyn\", \"Zoniferol\"]\n",
    "tick_locations = [value+0.4 for value in x_axis]\n",
    "plt.bar(x_axis, drug_regimen_sum[\"Regimen Count\"], color ='r')\n",
    "plt.xticks(tick_locations, xticks, rotation = 'vertical')\n"
   ]
  },
  {
   "cell_type": "code",
   "execution_count": 15,
   "metadata": {},
   "outputs": [
    {
     "name": "stdout",
     "output_type": "stream",
     "text": [
      "Drug Regimen\n",
      "Capomulin    230\n",
      "Ceftamin     178\n",
      "Infubinol    178\n",
      "Ketapril     188\n",
      "Naftisol     186\n",
      "Placebo      181\n",
      "Propriva     161\n",
      "Ramicane     228\n",
      "Stelasyn     181\n",
      "Zoniferol    182\n",
      "Name: Drug Regimen, dtype: int64\n"
     ]
    }
   ],
   "source": [
    "print(regimen_count)"
   ]
  },
  {
   "cell_type": "code",
   "execution_count": 16,
   "metadata": {},
   "outputs": [],
   "source": [
    "x_axis = len(regimen_count)"
   ]
  },
  {
   "cell_type": "code",
   "execution_count": 17,
   "metadata": {},
   "outputs": [
    {
     "data": {
      "text/plain": [
       "Text(0, 0.5, '# of treatments')"
      ]
     },
     "execution_count": 17,
     "metadata": {},
     "output_type": "execute_result"
    },
    {
     "data": {
      "image/png": "[encoded data removed]",
      "text/plain": [
       "<Figure size 432x288 with 1 Axes>"
      ]
     },
     "metadata": {
      "needs_background": "light"
     },
     "output_type": "display_data"
    }
   ],
   "source": [
    "ax = regimen_count.plot(kind=\"bar\", color = 'b')\n",
    "ax.set_ylabel(\"# of treatments\")"
   ]
  },
  {
   "cell_type": "code",
   "execution_count": 18,
   "metadata": {},
   "outputs": [
    {
     "name": "stdout",
     "output_type": "stream",
     "text": [
      "Sex\n",
      "Female    935\n",
      "Male      958\n",
      "Name: Sex, dtype: int64\n"
     ]
    }
   ],
   "source": [
    "gender_group = data_merged.groupby(\"Sex\")\n",
    "#drug_regimen_group.head()\n",
    "gender_count = gender_group['Sex'].count()\n",
    "print(gender_count)"
   ]
  },
  {
   "cell_type": "code",
   "execution_count": 19,
   "metadata": {},
   "outputs": [],
   "source": [
    "gender = ['Female', 'Male']\n",
    "colors = ['red', 'blue']\n",
    "explode = [0.1,0]"
   ]
  },
  {
   "cell_type": "code",
   "execution_count": 20,
   "metadata": {},
   "outputs": [
    {
     "data": {
      "text/plain": [
       "([<matplotlib.patches.Wedge at 0x264f97a0788>,\n",
       "  <matplotlib.patches.Wedge at 0x264f97a59c8>],\n",
       " [Text(0.02290091287918425, 1.1997814585120492, 'Female'),\n",
       "  Text(-0.020992503472586185, -1.0997996703027118, 'Male')],\n",
       " [Text(0.01335886584619081, 0.699872517465362, '49.4%'),\n",
       "  Text(-0.011450456439592464, -0.5998907292560246, '50.6%')])"
      ]
     },
     "execution_count": 20,
     "metadata": {},
     "output_type": "execute_result"
    },
    {
     "data": {
      "image/png": "[encoded data removed]",
      "text/plain": [
       "<Figure size 432x288 with 1 Axes>"
      ]
     },
     "metadata": {},
     "output_type": "display_data"
    }
   ],
   "source": [
    "plt.pie(gender_count,labels=gender, explode=explode, colors=colors,\n",
    "        autopct=\"%1.1f%%\", shadow=True)#, startangle=140)"
   ]
  },
  {
   "cell_type": "code",
   "execution_count": 21,
   "metadata": {},
   "outputs": [
    {
     "data": {
      "text/plain": [
       "<matplotlib.axes._subplots.AxesSubplot at 0x264f97c0ac8>"
      ]
     },
     "execution_count": 21,
     "metadata": {},
     "output_type": "execute_result"
    },
    {
     "data": {
      "image/png": "[encoded data removed]",
      "text/plain": [
       "<Figure size 432x288 with 1 Axes>"
      ]
     },
     "metadata": {},
     "output_type": "display_data"
    }
   ],
   "source": [
    "# mouse by gender pie chart using pandas\n",
    "gender_count.plot.pie(colors=['r','b'], autopct='%.1f%%')   \n"
   ]
  },
  {
   "cell_type": "code",
   "execution_count": 22,
   "metadata": {
    "collapsed": true
   },
   "outputs": [
    {
     "data": {
      "text/html": [
       "<div>\n",
       "<style scoped>\n",
       "    .dataframe tbody tr th:only-of-type {\n",
       "        vertical-align: middle;\n",
       "    }\n",
       "\n",
       "    .dataframe tbody tr th {\n",
       "        vertical-align: top;\n",
       "    }\n",
       "\n",
       "    .dataframe thead th {\n",
       "        text-align: right;\n",
       "    }\n",
       "</style>\n",
       "<table border=\"1\" class=\"dataframe\">\n",
       "  <thead>\n",
       "    <tr style=\"text-align: right;\">\n",
       "      <th></th>\n",
       "      <th>Mouse ID</th>\n",
       "      <th>Timepoint</th>\n",
       "      <th>Tumor Volume (mm3)</th>\n",
       "      <th>Metastatic Sites</th>\n",
       "    </tr>\n",
       "  </thead>\n",
       "  <tbody>\n",
       "    <tr>\n",
       "      <th>0</th>\n",
       "      <td>b128</td>\n",
       "      <td>0</td>\n",
       "      <td>45.000000</td>\n",
       "      <td>0</td>\n",
       "    </tr>\n",
       "    <tr>\n",
       "      <th>1</th>\n",
       "      <td>f932</td>\n",
       "      <td>0</td>\n",
       "      <td>45.000000</td>\n",
       "      <td>0</td>\n",
       "    </tr>\n",
       "    <tr>\n",
       "      <th>2</th>\n",
       "      <td>g107</td>\n",
       "      <td>0</td>\n",
       "      <td>45.000000</td>\n",
       "      <td>0</td>\n",
       "    </tr>\n",
       "    <tr>\n",
       "      <th>3</th>\n",
       "      <td>a457</td>\n",
       "      <td>0</td>\n",
       "      <td>45.000000</td>\n",
       "      <td>0</td>\n",
       "    </tr>\n",
       "    <tr>\n",
       "      <th>4</th>\n",
       "      <td>c819</td>\n",
       "      <td>0</td>\n",
       "      <td>45.000000</td>\n",
       "      <td>0</td>\n",
       "    </tr>\n",
       "    <tr>\n",
       "      <th>...</th>\n",
       "      <td>...</td>\n",
       "      <td>...</td>\n",
       "      <td>...</td>\n",
       "      <td>...</td>\n",
       "    </tr>\n",
       "    <tr>\n",
       "      <th>1107</th>\n",
       "      <td>x401</td>\n",
       "      <td>20</td>\n",
       "      <td>36.065835</td>\n",
       "      <td>0</td>\n",
       "    </tr>\n",
       "    <tr>\n",
       "      <th>1108</th>\n",
       "      <td>m269</td>\n",
       "      <td>20</td>\n",
       "      <td>61.145866</td>\n",
       "      <td>0</td>\n",
       "    </tr>\n",
       "    <tr>\n",
       "      <th>1109</th>\n",
       "      <td>a963</td>\n",
       "      <td>20</td>\n",
       "      <td>51.463734</td>\n",
       "      <td>0</td>\n",
       "    </tr>\n",
       "    <tr>\n",
       "      <th>1110</th>\n",
       "      <td>p189</td>\n",
       "      <td>20</td>\n",
       "      <td>56.530204</td>\n",
       "      <td>3</td>\n",
       "    </tr>\n",
       "    <tr>\n",
       "      <th>1112</th>\n",
       "      <td>n304</td>\n",
       "      <td>20</td>\n",
       "      <td>49.253309</td>\n",
       "      <td>1</td>\n",
       "    </tr>\n",
       "  </tbody>\n",
       "</table>\n",
       "<p>1108 rows × 4 columns</p>\n",
       "</div>"
      ],
      "text/plain": [
       "     Mouse ID  Timepoint  Tumor Volume (mm3)  Metastatic Sites\n",
       "0        b128          0           45.000000                 0\n",
       "1        f932          0           45.000000                 0\n",
       "2        g107          0           45.000000                 0\n",
       "3        a457          0           45.000000                 0\n",
       "4        c819          0           45.000000                 0\n",
       "...       ...        ...                 ...               ...\n",
       "1107     x401         20           36.065835                 0\n",
       "1108     m269         20           61.145866                 0\n",
       "1109     a963         20           51.463734                 0\n",
       "1110     p189         20           56.530204                 3\n",
       "1112     n304         20           49.253309                 1\n",
       "\n",
       "[1108 rows x 4 columns]"
      ]
     },
     "execution_count": 22,
     "metadata": {},
     "output_type": "execute_result"
    }
   ],
   "source": [
    "mouse_gp = study_results.groupby(\"Mouse ID\")\n",
    "mouse_gp.head()"
   ]
  },
  {
   "cell_type": "code",
   "execution_count": 23,
   "metadata": {
    "collapsed": true
   },
   "outputs": [
    {
     "name": "stdout",
     "output_type": "stream",
     "text": [
      "     Mouse ID  Timepoint  Tumor Volume (mm3)  Metastatic Sites Drug Regimen  \\\n",
      "113      a203          0           45.000000                 0    Infubinol   \n",
      "389      a203          5           48.508468                 0    Infubinol   \n",
      "598      a203         10           51.852437                 1    Infubinol   \n",
      "758      a203         15           52.777870                 1    Infubinol   \n",
      "1018     a203         20           55.173336                 1    Infubinol   \n",
      "...       ...        ...                 ...               ...          ...   \n",
      "1143     z969         25           63.145652                 2     Naftisol   \n",
      "1407     z969         30           65.841013                 3     Naftisol   \n",
      "1529     z969         35           69.176246                 4     Naftisol   \n",
      "1730     z969         40           70.314904                 4     Naftisol   \n",
      "1869     z969         45           73.867845                 4     Naftisol   \n",
      "\n",
      "         Sex  Age_months  Weight (g)  \n",
      "113   Female          20          23  \n",
      "389   Female          20          23  \n",
      "598   Female          20          23  \n",
      "758   Female          20          23  \n",
      "1018  Female          20          23  \n",
      "...      ...         ...         ...  \n",
      "1143    Male           9          30  \n",
      "1407    Male           9          30  \n",
      "1529    Male           9          30  \n",
      "1730    Male           9          30  \n",
      "1869    Male           9          30  \n",
      "\n",
      "[1893 rows x 8 columns]\n"
     ]
    }
   ],
   "source": [
    "sresults_sorted = data_merged .sort_values(by=['Mouse ID', 'Timepoint'])\n",
    "print(sresults_sorted)"
   ]
  },
  {
   "cell_type": "code",
   "execution_count": 48,
   "metadata": {},
   "outputs": [],
   "source": [
    "df=sresults_sorted.groupby(\"Mouse ID\").tail(1)"
   ]
  },
  {
   "cell_type": "code",
   "execution_count": 53,
   "metadata": {
    "collapsed": true
   },
   "outputs": [
    {
     "name": "stdout",
     "output_type": "stream",
     "text": [
      "     Mouse ID  Tumor Volume (mm3) Drug Regimen\n",
      "1764     b128           38.982878    Capomulin\n",
      "1829     b742           38.939633    Capomulin\n",
      "930      f966           30.485985    Capomulin\n",
      "1777     g288           37.074024    Capomulin\n",
      "1791     g316           40.159220    Capomulin\n",
      "1878     i557           47.685963    Capomulin\n",
      "1850     i738           37.311846    Capomulin\n",
      "1859     j119           38.125164    Capomulin\n",
      "1497     j246           38.753265    Capomulin\n",
      "1771     l509           41.483008    Capomulin\n",
      "1817     l897           38.846876    Capomulin\n",
      "1843     m601           28.430964    Capomulin\n",
      "1800     m957           33.329098    Capomulin\n",
      "801      r157           46.539206    Capomulin\n",
      "1788     r554           32.377357    Capomulin\n",
      "1888     r944           41.581521    Capomulin\n",
      "1849     s185           23.343598    Capomulin\n",
      "1854     s710           40.728578    Capomulin\n",
      "1769     t565           34.455298    Capomulin\n",
      "1889     u364           31.023923    Capomulin\n",
      "1821     v923           40.658124    Capomulin\n",
      "650      w150           39.952347    Capomulin\n",
      "1838     w914           36.041047    Capomulin\n",
      "1846     x401           28.484033    Capomulin\n",
      "1797     y793           31.896238    Capomulin\n"
     ]
    }
   ],
   "source": [
    "df1 = pd.DataFrame(df, columns = ['Mouse ID','Tumor Volume (mm3)', 'Drug Regimen'])\n",
    "cap_df = df1[df1['Drug Regimen'] == 'Capomulin']\n",
    "print(cap_df)"
   ]
  },
  {
   "cell_type": "code",
   "execution_count": 60,
   "metadata": {},
   "outputs": [
    {
     "name": "stdout",
     "output_type": "stream",
     "text": [
      "32.37735684\n",
      "38.125164399999996\n",
      "40.1592203\n",
      "7.781863460000004\n"
     ]
    }
   ],
   "source": [
    "cap_vol = cap_df['Tumor Volume (mm3)']\n",
    "cap_qtr = cap_vol.quantile([.25, .5, .75]) \n",
    "cap_low = cap_qtr[0.25]\n",
    "cap_mid = cap_qtr[0.5]\n",
    "cap_high = cap_qtr[0.75]\n",
    "cap_iqr = cap_high - cap_low\n",
    "print(cap_low)\n",
    "print(cap_mid)\n",
    "print(cap_high)\n",
    "print(cap_iqr)"
   ]
  },
  {
   "cell_type": "code",
   "execution_count": 54,
   "metadata": {
    "collapsed": true
   },
   "outputs": [
    {
     "name": "stdout",
     "output_type": "stream",
     "text": [
      "     Mouse ID  Tumor Volume (mm3) Drug Regimen\n",
      "1773     a411           38.407618     Ramicane\n",
      "1836     a444           43.047543     Ramicane\n",
      "1857     a520           38.810366     Ramicane\n",
      "1879     a644           32.978522     Ramicane\n",
      "1352     c458           38.342008     Ramicane\n",
      "1822     c758           33.397653     Ramicane\n",
      "1844     d251           37.311236     Ramicane\n",
      "1801     e662           40.659006     Ramicane\n",
      "1870     g791           29.128472     Ramicane\n",
      "1885     i177           33.562402     Ramicane\n",
      "1780     i334           36.374510     Ramicane\n",
      "1833     j913           31.560470     Ramicane\n",
      "1828     j989           36.134852     Ramicane\n",
      "1814     k403           22.050126     Ramicane\n",
      "1808     m546           30.564625     Ramicane\n",
      "1763     n364           31.095335     Ramicane\n",
      "1776     q597           45.220869     Ramicane\n",
      "1498     q610           36.561652     Ramicane\n",
      "1874     r811           37.225650     Ramicane\n",
      "1312     r921           43.419381     Ramicane\n",
      "1795     s508           30.276232     Ramicane\n",
      "1867     u196           40.667713     Ramicane\n",
      "424      w678           43.166373     Ramicane\n",
      "734      y449           44.183451     Ramicane\n",
      "1799     z578           30.638696     Ramicane\n"
     ]
    }
   ],
   "source": [
    "ram_df = df1[df1['Drug Regimen'] == 'Ramicane']\n",
    "print(ram_df)"
   ]
  },
  {
   "cell_type": "code",
   "execution_count": 61,
   "metadata": {},
   "outputs": [
    {
     "name": "stdout",
     "output_type": "stream",
     "text": [
      "31.56046955\n",
      "36.56165229\n",
      "40.65900627\n",
      "9.098536719999998\n"
     ]
    }
   ],
   "source": [
    "ram_vol = ram_df['Tumor Volume (mm3)']\n",
    "ram_qtr = ram_vol.quantile([.25, .5, .75]) \n",
    "ram_low = ram_qtr[0.25]\n",
    "ram_mid = ram_qtr[0.5]\n",
    "ram_high = ram_qtr[0.75]\n",
    "ram_iqr = ram_high - ram_low\n",
    "print(ram_low)\n",
    "print(ram_mid)\n",
    "print(ram_high)\n",
    "print(ram_iqr)"
   ]
  },
  {
   "cell_type": "code",
   "execution_count": 62,
   "metadata": {
    "collapsed": true
   },
   "outputs": [
    {
     "name": "stdout",
     "output_type": "stream",
     "text": [
      "     Mouse ID  Tumor Volume (mm3) Drug Regimen\n",
      "1804     a203           67.973419    Infubinol\n",
      "1786     a251           65.525743    Infubinol\n",
      "1371     a577           57.031862    Infubinol\n",
      "1794     a685           66.083066    Infubinol\n",
      "1781     c139           72.226731    Infubinol\n",
      "420      c326           36.321346    Infubinol\n",
      "1320     c895           60.969711    Infubinol\n",
      "1802     e476           62.435404    Infubinol\n",
      "1806     f345           60.918767    Infubinol\n",
      "1735     i386           67.289621    Infubinol\n",
      "1789     k483           66.196912    Infubinol\n",
      "1485     k804           62.117279    Infubinol\n",
      "449      m756           47.010364    Infubinol\n",
      "1429     n671           60.165180    Infubinol\n",
      "1469     o809           55.629428    Infubinol\n",
      "450      o813           45.699331    Infubinol\n",
      "1364     q132           54.656549    Infubinol\n",
      "1236     s121           55.650681    Infubinol\n",
      "427      v339           46.250112    Infubinol\n",
      "991      v719           54.048608    Infubinol\n",
      "796      v766           51.542431    Infubinol\n",
      "1006     w193           50.005138    Infubinol\n",
      "1378     w584           58.268442    Infubinol\n",
      "1779     y163           67.685569    Infubinol\n",
      "1784     z581           62.754451    Infubinol\n"
     ]
    }
   ],
   "source": [
    "inf_df = df1[df1['Drug Regimen'] == 'Infubinol']\n",
    "print(inf_df)"
   ]
  },
  {
   "cell_type": "code",
   "execution_count": 63,
   "metadata": {},
   "outputs": [
    {
     "name": "stdout",
     "output_type": "stream",
     "text": [
      "54.04860769\n",
      "60.16518046\n",
      "65.52574285\n",
      "11.477135160000003\n"
     ]
    }
   ],
   "source": [
    "inf_vol = inf_df['Tumor Volume (mm3)']\n",
    "inf_qtr = inf_vol.quantile([.25, .5, .75]) \n",
    "inf_low = inf_qtr[0.25]\n",
    "inf_mid = inf_qtr[0.5]\n",
    "inf_high = inf_qtr[0.75]\n",
    "inf_iqr = inf_high - inf_low\n",
    "print(inf_low)\n",
    "print(inf_mid)\n",
    "print(inf_high)\n",
    "print(inf_iqr)"
   ]
  },
  {
   "cell_type": "code",
   "execution_count": 64,
   "metadata": {
    "collapsed": true
   },
   "outputs": [
    {
     "name": "stdout",
     "output_type": "stream",
     "text": [
      "     Mouse ID  Tumor Volume (mm3) Drug Regimen\n",
      "1856     a275           62.999356     Ceftamin\n",
      "194      b447           45.000000     Ceftamin\n",
      "1150     b487           56.057749     Ceftamin\n",
      "1405     b759           55.742829     Ceftamin\n",
      "882      f436           48.722078     Ceftamin\n",
      "463      h531           47.784682     Ceftamin\n",
      "1772     j296           61.849023     Ceftamin\n",
      "1858     k210           68.923185     Ceftamin\n",
      "1810     l471           67.748662     Ceftamin\n",
      "1435     l490           57.918381     Ceftamin\n",
      "544      l558           46.784535     Ceftamin\n",
      "1765     l661           59.851956     Ceftamin\n",
      "1864     l733           64.299830     Ceftamin\n",
      "1872     o287           59.741901     Ceftamin\n",
      "1890     p438           61.433892     Ceftamin\n",
      "1692     q483           64.192341     Ceftamin\n",
      "222      t573           45.000000     Ceftamin\n",
      "1113     u149           52.925348     Ceftamin\n",
      "182      u153           45.000000     Ceftamin\n",
      "1790     w151           67.527482     Ceftamin\n",
      "217      x226           45.000000     Ceftamin\n",
      "1855     x581           64.634949     Ceftamin\n",
      "1862     x822           61.386660     Ceftamin\n",
      "1767     y769           68.594745     Ceftamin\n",
      "1766     y865           64.729837     Ceftamin\n"
     ]
    }
   ],
   "source": [
    "cef_df = df1[df1['Drug Regimen'] == 'Ceftamin']\n",
    "print(cef_df)"
   ]
  },
  {
   "cell_type": "code",
   "execution_count": 65,
   "metadata": {},
   "outputs": [
    {
     "name": "stdout",
     "output_type": "stream",
     "text": [
      "48.72207785\n",
      "59.85195552\n",
      "64.29983003\n",
      "15.577752179999997\n"
     ]
    }
   ],
   "source": [
    "cef_vol = cef_df['Tumor Volume (mm3)']\n",
    "cef_qtr = cef_vol.quantile([.25, .5, .75]) \n",
    "cef_low = cef_qtr[0.25]\n",
    "cef_mid = cef_qtr[0.5]\n",
    "cef_high = cef_qtr[0.75]\n",
    "cef_iqr = cef_high - cef_low\n",
    "print(cef_low)\n",
    "print(cef_mid)\n",
    "print(cef_high)\n",
    "print(cef_iqr)"
   ]
  },
  {
   "cell_type": "code",
   "execution_count": 68,
   "metadata": {},
   "outputs": [
    {
     "data": {
      "text/plain": [
       "<function matplotlib.pyplot.show(*args, **kw)>"
      ]
     },
     "execution_count": 68,
     "metadata": {},
     "output_type": "execute_result"
    },
    {
     "data": {
      "image/png": "[encoded data removed]",
      "text/plain": [
       "<Figure size 432x288 with 1 Axes>"
      ]
     },
     "metadata": {
      "needs_background": "light"
     },
     "output_type": "display_data"
    }
   ],
   "source": [
    "cef_vol = cef_df['Tumor Volume (mm3)']\n",
    "fig1, ax1 = plt.subplots()\n",
    "ax1.boxplot(cef_vol)\n",
    "ax1.set_title('Ceftamin')\n",
    "ax1.set_ylabel('Final Tumor Vol')\n",
    "plt.show"
   ]
  },
  {
   "cell_type": "code",
   "execution_count": 74,
   "metadata": {},
   "outputs": [
    {
     "data": {
      "text/plain": [
       "<function matplotlib.pyplot.show(*args, **kw)>"
      ]
     },
     "execution_count": 74,
     "metadata": {},
     "output_type": "execute_result"
    },
    {
     "data": {
      "image/png": "[encoded data removed]",
      "text/plain": [
       "<Figure size 432x288 with 1 Axes>"
      ]
     },
     "metadata": {
      "needs_background": "light"
     },
     "output_type": "display_data"
    }
   ],
   "source": [
    "cap_vol = cap_df['Tumor Volume (mm3)']\n",
    "fig2, ax2 = plt.subplots()\n",
    "ax2.boxplot(cap_vol)\n",
    "ax2.set_title('Capomulin')\n",
    "ax2.set_ylabel('Final Tumor Vol')\n",
    "plt.show"
   ]
  },
  {
   "cell_type": "code",
   "execution_count": 75,
   "metadata": {},
   "outputs": [
    {
     "data": {
      "text/plain": [
       "<function matplotlib.pyplot.show(*args, **kw)>"
      ]
     },
     "execution_count": 75,
     "metadata": {},
     "output_type": "execute_result"
    },
    {
     "data": {
      "image/png": "[encoded data removed]",
      "text/plain": [
       "<Figure size 432x288 with 1 Axes>"
      ]
     },
     "metadata": {
      "needs_background": "light"
     },
     "output_type": "display_data"
    }
   ],
   "source": [
    "ram_vol = ram_df['Tumor Volume (mm3)']\n",
    "fig3, ax3 = plt.subplots()\n",
    "ax3.boxplot(ram_vol)\n",
    "ax3.set_title('Ramicane')\n",
    "ax3.set_ylabel('Final Tumor Vol')\n",
    "plt.show"
   ]
  },
  {
   "cell_type": "code",
   "execution_count": 78,
   "metadata": {},
   "outputs": [
    {
     "data": {
      "text/plain": [
       "{'whiskers': [<matplotlib.lines.Line2D at 0x264f9d5bf48>,\n",
       "  <matplotlib.lines.Line2D at 0x264f9d89b88>],\n",
       " 'caps': [<matplotlib.lines.Line2D at 0x264f9d89cc8>,\n",
       "  <matplotlib.lines.Line2D at 0x264f9d8eb08>],\n",
       " 'boxes': [<matplotlib.lines.Line2D at 0x264f9d78248>],\n",
       " 'medians': [<matplotlib.lines.Line2D at 0x264f9d8ec48>],\n",
       " 'fliers': [<matplotlib.lines.Line2D at 0x264f9d91a88>],\n",
       " 'means': []}"
      ]
     },
     "execution_count": 78,
     "metadata": {},
     "output_type": "execute_result"
    },
    {
     "data": {
      "image/png": "[encoded data removed]",
      "text/plain": [
       "<Figure size 432x288 with 1 Axes>"
      ]
     },
     "metadata": {
      "needs_background": "light"
     },
     "output_type": "display_data"
    }
   ],
   "source": [
    "green_diamond = dict(markerfacecolor='g', marker='D')\n",
    "inf_vol = inf_df['Tumor Volume (mm3)']\n",
    "fig4, ax4 = plt.subplots()\n",
    "#ax4.boxplot(inf_vol)\n",
    "ax4.set_title('Infubinol')\n",
    "ax4.set_ylabel('Final Tumor Vol')\n",
    "ax4.boxplot(inf_vol, flierprops=green_diamond)\n",
    "#plt.show"
   ]
  },
  {
   "cell_type": "code",
   "execution_count": null,
   "metadata": {},
   "outputs": [],
   "source": []
  }
 ],
 "metadata": {
  "kernelspec": {
   "display_name": "Python [conda env:PythonData] *",
   "language": "python",
   "name": "conda-env-PythonData-py"
  },
  "language_info": {
   "codemirror_mode": {
    "name": "ipython",
    "version": 3
   },
   "file_extension": ".py",
   "mimetype": "text/x-python",
   "name": "python",
   "nbconvert_exporter": "python",
   "pygments_lexer": "ipython3",
   "version": "3.7.6"
  }
 },
 "nbformat": 4,
 "nbformat_minor": 4
}
